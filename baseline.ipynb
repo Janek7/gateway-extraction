{
 "cells": [
  {
   "cell_type": "markdown",
   "id": "da85bfe7",
   "metadata": {},
   "source": [
    "# Baseline\n",
    "variables with prefix ``doc_`` contain data from the dataset\n",
    "variables with prefix ``o_`` contain data from own computations"
   ]
  },
  {
   "cell_type": "code",
   "execution_count": 1,
   "id": "bdd7e7ea",
   "metadata": {},
   "outputs": [],
   "source": [
    "import itertools\n",
    "\n",
    "from petreader.RelationsExtraction import RelationsExtraction\n",
    "from petreader.TokenClassification import TokenClassification\n",
    "from petreader import labels"
   ]
  },
  {
   "cell_type": "code",
   "execution_count": 2,
   "id": "59c49670",
   "metadata": {
    "scrolled": true
   },
   "outputs": [
    {
     "name": "stderr",
     "output_type": "stream",
     "text": [
      "Using the latest cached version of the module from C:\\Users\\janek\\.cache\\huggingface\\modules\\datasets_modules\\datasets\\patriziobellan--PET\\38434e2af57af533c400c8975f37e43c08bb77739085a3c026a862b2efb668d2 (last modified on Sun Jul  3 12:17:36 2022) since it couldn't be found locally at patriziobellan/PET., or remotely on the Hugging Face Hub.\n",
      "Reusing dataset pet (C:\\Users\\janek\\.cache\\huggingface\\datasets\\patriziobellan___pet\\relations-extraction\\1.0.1\\38434e2af57af533c400c8975f37e43c08bb77739085a3c026a862b2efb668d2)\n"
     ]
    },
    {
     "name": "stdout",
     "output_type": "stream",
     "text": [
      "\n",
      "\n",
      " _______ _     _ _______       _____  _______ _______      ______  _______ _______ _______ _______ _______ _______\n",
      "    |    |_____| |______      |_____] |______    |         |     \\ |_____|    |    |_____| |______ |______    |   \n",
      "    |    |     | |______      |       |______    |         |_____/ |     |    |    |     | ______| |______    |   \n",
      "                                                                                                                  \n",
      "Discover more at: [https://pdi.fbk.eu/pet-dataset/]\n",
      "\n"
     ]
    },
    {
     "data": {
      "application/json": {
       "ascii": false,
       "bar_format": null,
       "colour": null,
       "elapsed": 0.0792229175567627,
       "initial": 0,
       "n": 0,
       "ncols": null,
       "nrows": 29,
       "postfix": null,
       "prefix": "",
       "rate": null,
       "total": 1,
       "unit": "it",
       "unit_divisor": 1000,
       "unit_scale": false
      },
      "application/vnd.jupyter.widget-view+json": {
       "model_id": "ff2fec9701854154b859ee516972b188",
       "version_major": 2,
       "version_minor": 0
      },
      "text/plain": [
       "  0%|          | 0/1 [00:00<?, ?it/s]"
      ]
     },
     "metadata": {},
     "output_type": "display_data"
    },
    {
     "name": "stderr",
     "output_type": "stream",
     "text": [
      "Using the latest cached version of the module from C:\\Users\\janek\\.cache\\huggingface\\modules\\datasets_modules\\datasets\\patriziobellan--PET\\38434e2af57af533c400c8975f37e43c08bb77739085a3c026a862b2efb668d2 (last modified on Sun Jul  3 12:17:36 2022) since it couldn't be found locally at patriziobellan/PET., or remotely on the Hugging Face Hub.\n",
      "Reusing dataset pet (C:\\Users\\janek\\.cache\\huggingface\\datasets\\patriziobellan___pet\\token-classification\\1.0.1\\38434e2af57af533c400c8975f37e43c08bb77739085a3c026a862b2efb668d2)\n"
     ]
    },
    {
     "name": "stdout",
     "output_type": "stream",
     "text": [
      "\n",
      "\n",
      " _______ _     _ _______       _____  _______ _______      ______  _______ _______ _______ _______ _______ _______\n",
      "    |    |_____| |______      |_____] |______    |         |     \\ |_____|    |    |_____| |______ |______    |   \n",
      "    |    |     | |______      |       |______    |         |_____/ |     |    |    |     | ______| |______    |   \n",
      "                                                                                                                  \n",
      "Discover more at: [https://pdi.fbk.eu/pet-dataset/]\n",
      "\n"
     ]
    },
    {
     "data": {
      "application/json": {
       "ascii": false,
       "bar_format": null,
       "colour": null,
       "elapsed": 0.0518646240234375,
       "initial": 0,
       "n": 0,
       "ncols": null,
       "nrows": 29,
       "postfix": null,
       "prefix": "",
       "rate": null,
       "total": 1,
       "unit": "it",
       "unit_divisor": 1000,
       "unit_scale": false
      },
      "application/vnd.jupyter.widget-view+json": {
       "model_id": "d0fff082768046a89db1b5afd5ad18a4",
       "version_major": 2,
       "version_minor": 0
      },
      "text/plain": [
       "  0%|          | 0/1 [00:00<?, ?it/s]"
      ]
     },
     "metadata": {},
     "output_type": "display_data"
    }
   ],
   "source": [
    "relations_dataset = RelationsExtraction()\n",
    "token_dataset = TokenClassification()"
   ]
  },
  {
   "cell_type": "markdown",
   "id": "84d905d3",
   "metadata": {},
   "source": [
    "## 1 Prepare Document Data"
   ]
  },
  {
   "cell_type": "markdown",
   "id": "59fc1372",
   "metadata": {},
   "source": [
    "### 1.1 Read Example Doc"
   ]
  },
  {
   "cell_type": "code",
   "execution_count": 3,
   "id": "cbe36154",
   "metadata": {},
   "outputs": [
    {
     "name": "stdout",
     "output_type": "stream",
     "text": [
      "*******************  doc-1.1  ********************\n",
      "A small company manufactures customized bicycles . Whenever the sales department receives an order , a new process instance is created . A member of the sales department can then reject or accept the order for a customized bike . In the former case , the process instance is finished . In the latter case , the storehouse and the engineering department are informed . The storehouse immediately processes the part list of the order and checks the required quantity of each part . If the part is available in-house , it is reserved . If it is not available , it is back-ordered . This procedure is repeated for each item on the part list . In the meantime , the engineering department prepares everything for the assembling of the ordered bicycle . If the storehouse has successfully reserved or back-ordered every item of the part list and the preparation activity has finished , the engineering department assembles the bicycle . Afterwards , the sales department ships the bicycle to the customer and finishes the process instance .\n",
      "*** activities and NER labels (per sentences) ****\n",
      "[[], [['receives']], [['reject'], ['accept']], [], [['informed']], [['processes'], ['checks']], [['reserved']], [['back-ordered']], [], [['prepares']], [['assembles']], [['ships']]]\n",
      "[[('A', 0, 'O'), ('small', 1, 'O'), ('company', 2, 'O'), ('manufactures', 3, 'O'), ('customized', 4, 'O'), ('bicycles', 5, 'O'), ('.', 6, 'O')], [('Whenever', 0, 'O'), ('the', 1, 'B-Actor'), ('sales', 2, 'I-Actor'), ('department', 3, 'I-Actor'), ('receives', 4, 'B-Activity'), ('an', 5, 'B-Activity Data'), ('order', 6, 'I-Activity Data'), (',', 7, 'O'), ('a', 8, 'O'), ('new', 9, 'O'), ('process', 10, 'O'), ('instance', 11, 'O'), ('is', 12, 'O'), ('created', 13, 'O'), ('.', 14, 'O')], [('A', 0, 'O'), ('member', 1, 'O'), ('of', 2, 'O'), ('the', 3, 'O'), ('sales', 4, 'O'), ('department', 5, 'O'), ('can', 6, 'O'), ('then', 7, 'O'), ('reject', 8, 'B-Activity'), ('or', 9, 'B-XOR Gateway'), ('accept', 10, 'B-Activity'), ('the', 11, 'B-Activity Data'), ('order', 12, 'I-Activity Data'), ('for', 13, 'O'), ('a', 14, 'O'), ('customized', 15, 'O'), ('bike', 16, 'O'), ('.', 17, 'O')], [('In', 0, 'O'), ('the', 1, 'O'), ('former', 2, 'O'), ('case', 3, 'O'), (',', 4, 'O'), ('the', 5, 'O'), ('process', 6, 'O'), ('instance', 7, 'O'), ('is', 8, 'O'), ('finished', 9, 'O'), ('.', 10, 'O')]]\n",
      "************* same gateway relations *************\n",
      "source-head-sentence-ID: 6\n",
      "source-head-word-ID: 0\n",
      "source-entity-type: XOR Gateway\n",
      "source-entity: ['If']\n",
      "target-head-sentence-ID: 7\n",
      "target-head-word-ID: 0\n",
      "target-entity-type: XOR Gateway\n",
      "target-entity: ['If']\n",
      "\n"
     ]
    }
   ],
   "source": [
    "doc_id = 0\n",
    "doc_name = token_dataset.GetDocumentName(doc_id)\n",
    "print(f\"  {doc_name}  \".center(50, '*'))\n",
    "doc_text = relations_dataset.GetDocument(doc_id)\n",
    "print(doc_text)\n",
    "doc_activities = token_dataset.GetDocumentActivities(doc_name)\n",
    "\n",
    "print(\" activities and NER labels (per sentences) \".center(50, '*'))\n",
    "print(doc_activities)\n",
    "doc_sentence_ner_labels = relations_dataset.GetSentencesWithIdsAndNerTagLabels(doc_id)\n",
    "print(doc_sentence_ner_labels[:4])\n",
    "doc_relations = relations_dataset.GetRelations(doc_id)\n",
    "doc_flow_relations, doc_same_gateway_relations = doc_relations[labels.FLOW], doc_relations[labels.SAME_GATEWAY]\n",
    "\n",
    "print(\" same gateway relations \".center(50, '*'))\n",
    "for same_gateway_relation in doc_same_gateway_relations:\n",
    "    for key, value in same_gateway_relation.items():\n",
    "        print(f\"{key}: {value}\")\n",
    "    print()"
   ]
  },
  {
   "cell_type": "markdown",
   "id": "79b84532",
   "metadata": {},
   "source": [
    "### 1.2 Preprocess sentences"
   ]
  },
  {
   "cell_type": "code",
   "execution_count": 4,
   "id": "9b8a529f",
   "metadata": {},
   "outputs": [
    {
     "name": "stdout",
     "output_type": "stream",
     "text": [
      "12\n",
      "A small company manufactures customized bicycles\n",
      "Whenever the sales department receives an order , a new process instance is created\n",
      "A member of the sales department can then reject or accept the order for a customized bike\n",
      "In the former case , the process instance is finished\n",
      "In the latter case , the storehouse and the engineering department are informed\n",
      "The storehouse immediately processes the part list of the order and checks the required quantity of each part\n",
      "If the part is available in-house , it is reserved\n",
      "If it is not available , it is back-ordered\n",
      "This procedure is repeated for each item on the part list\n",
      "In the meantime , the engineering department prepares everything for the assembling of the ordered bicycle\n",
      "If the storehouse has successfully reserved or back-ordered every item of the part list and the preparation activity has finished , the engineering department assembles the bicycle\n",
      "Afterwards , the sales department ships the bicycle to the customer and finishes the process instance\n"
     ]
    }
   ],
   "source": [
    "num_sentences = len(doc_activities) # activities is 2 dim list (one per sentence)\n",
    "print(num_sentences)\n",
    "doc_sentences_raw = [sentence.strip() for sentence in doc_text.split(\".\") if sentence.strip() != \"\"]\n",
    "for s in doc_sentences_raw:\n",
    "    print(s)\n",
    "assert num_sentences == len(doc_sentences_raw)  # check if number of extracted sentences == from dataset "
   ]
  },
  {
   "cell_type": "markdown",
   "id": "34a98c16",
   "metadata": {},
   "source": [
    "### 1.3 Filter Gateways Tokens"
   ]
  },
  {
   "cell_type": "code",
   "execution_count": 5,
   "id": "5b7a2435",
   "metadata": {},
   "outputs": [
    {
     "name": "stdout",
     "output_type": "stream",
     "text": [
      "[[], [], [('or', 9, 'B-XOR Gateway')], [], [], [], [('If', 0, 'B-XOR Gateway')], [('If', 0, 'B-XOR Gateway')], [], [], [('If', 0, 'B-XOR Gateway')], []]\n",
      "[[], [], [], [], [], [], [], [], [], [('In', 0, 'B-AND Gateway'), ('the', 1, 'I-AND Gateway'), ('meantime', 2, 'I-AND Gateway')], [], []]\n"
     ]
    }
   ],
   "source": [
    "def filter_ner_labels(sentence_ner_labels, target_label):\n",
    "    return [[token for token in s_list if target_label in token[2]]\n",
    "                        for s_list in sentence_ner_labels]\n",
    "\n",
    "doc_xor_gateway = filter_ner_labels(doc_sentence_ner_labels, labels.XOR_GATEWAY)\n",
    "doc_and_gateway = filter_ner_labels(doc_sentence_ner_labels, labels.AND_GATEWAY)\n",
    "print(doc_xor_gateway)\n",
    "print(doc_and_gateway)"
   ]
  },
  {
   "cell_type": "markdown",
   "id": "e75a1ea2",
   "metadata": {},
   "source": [
    "### 1.4 Filter Sequence Flows"
   ]
  },
  {
   "cell_type": "code",
   "execution_count": 35,
   "id": "9f1ecabb",
   "metadata": {},
   "outputs": [
    {
     "name": "stdout",
     "output_type": "stream",
     "text": [
      "Flow relations involving XOR gateways 10; AND gateways 3; overall gateways 16; overall 19\n"
     ]
    }
   ],
   "source": [
    "def filter_flow_relations(flow_relations, entity_type_list):\n",
    "    \"\"\"\n",
    "    filter list of flow relations (single dictionaries) for source or target entity type = given entity tyoe\n",
    "    \"\"\"\n",
    "    return [flow_relation for flow_relation in flow_relations if flow_relation[labels.SOURCE_ENTITY_TYPE] in entity_type_list\n",
    "                                                               or flow_relation[labels.TARGET_ENTITY_TYPE] in entity_type_list]\n",
    "\n",
    "doc_flow_relations_xor = filter_flow_relations(doc_flow_relations, [labels.XOR_GATEWAY])\n",
    "doc_flow_relations_and = filter_flow_relations(doc_flow_relations, [labels.AND_GATEWAY])\n",
    "doc_flow_relations_gateways = filter_flow_relations(doc_flow_relations, [labels.XOR_GATEWAY, labels.AND_GATEWAY, labels.CONDITION_SPECIFICATION])\n",
    "print(f\"Flow relations involving XOR gateways {len(doc_flow_relations_xor)}; \"\\\n",
    "      f\"AND gateways {len(doc_flow_relations_and)}; overall gateways {len(doc_flow_relations_gateways)}; overall {len(doc_flow_relations)}\")"
   ]
  },
  {
   "cell_type": "markdown",
   "id": "2758eeff",
   "metadata": {},
   "source": [
    "### 1.5 Enrich activities with token index"
   ]
  },
  {
   "cell_type": "code",
   "execution_count": 57,
   "id": "c27ed766",
   "metadata": {},
   "outputs": [],
   "source": [
    "doc_activity_tokens = []\n",
    "for i, (tokens, activities) in enumerate(zip(doc_sentence_ner_labels, doc_activities)):\n",
    "    sentence_activity_tokens = []\n",
    "    # note: activity is a list because it could consist of more words (neglect here)\n",
    "    for activity in activities:\n",
    "        activity_token_triple = [token_triple for token_triple in tokens if token_triple[0] == activity[0]][0]\n",
    "        sentence_activity_tokens.append((activity, activity_token_triple[1]))\n",
    "    doc_activity_tokens.append(sentence_activity_tokens)"
   ]
  },
  {
   "cell_type": "markdown",
   "id": "e1c4e627",
   "metadata": {},
   "source": [
    "## 2 Extract Gateways"
   ]
  },
  {
   "cell_type": "markdown",
   "id": "c32d4d41",
   "metadata": {},
   "source": [
    "### 2.1 Key Word List\n",
    "#### A) take words from all existing gateways in PET dataset as gold list for detection"
   ]
  },
  {
   "cell_type": "code",
   "execution_count": 7,
   "id": "d0cb69a9",
   "metadata": {},
   "outputs": [
    {
     "name": "stdout",
     "output_type": "stream",
     "text": [
      "XOR gold (15) ['either', 'for', 'for each patient for which', 'for the case', 'if', 'in case', 'in case of', 'in the case of', 'it can also happen that', 'or', 'otherwise', 'should', 'sometimes', 'under certain circumstances', 'whereas']\n",
      "AND gold (6) ['at the same time', 'in the meantime', 'meantime', 'two concurrent activities are triggered', 'whereas', 'while']\n"
     ]
    }
   ],
   "source": [
    "def get_gateway_key_words(dataset_gateway_list):\n",
    "    flattened = list(itertools.chain(*dataset_gateway_list))\n",
    "    phrases = [\" \".join(g).lower() for g in flattened]  # join phrases together if multiple words\n",
    "    unique = list(set(phrases))\n",
    "    unique.sort()\n",
    "    return unique\n",
    "\n",
    "xor_key_words_gold = get_gateway_key_words(token_dataset.GetXORGateways())\n",
    "and_key_words_gold = get_gateway_key_words(token_dataset.GetANDGateways())\n",
    "\n",
    "print(f\"XOR gold ({len(xor_key_words_gold)})\", xor_key_words_gold)\n",
    "print(f\"AND gold ({len(and_key_words_gold)})\", and_key_words_gold)"
   ]
  },
  {
   "cell_type": "markdown",
   "id": "33efcd79",
   "metadata": {},
   "source": [
    "#### B) Curated List from Literature"
   ]
  },
  {
   "cell_type": "code",
   "execution_count": 8,
   "id": "e45bdd69",
   "metadata": {},
   "outputs": [
    {
     "name": "stdout",
     "output_type": "stream",
     "text": [
      "XOR literature (14) ['either', 'if', 'if not', 'in case', 'in case of', 'only', 'only if', 'or', 'otherwise', 'till', 'unless', 'until', 'when', 'whether']\n",
      "AND literature (11) ['at the same time', 'concurrently', 'in addition to', 'in parallel', 'in parallel with this', 'in the meantime', 'meantime', 'meanwhile', 'simultaneously', 'whereas', 'while']\n"
     ]
    }
   ],
   "source": [
    "# Ferreira et al. 2017\n",
    "xor_key_words_literature = ['if', 'whether', 'if not', 'or', 'in case', 'in case of', 'otherwise', 'either', 'only', 'till', 'until', 'unless', 'when', 'only if']\n",
    "xor_key_words_literature.sort()\n",
    "and_key_words_literature = ['while', 'meanwhile', 'in parallel', 'concurrently', 'meantime', 'in the meantime', 'in parallel with this', 'in addition to', 'simultaneously', 'at the same time', 'whereas']\n",
    "and_key_words_literature.sort()\n",
    "print(f\"XOR literature ({len(xor_key_words_literature)})\", xor_key_words_literature)\n",
    "print(f\"AND literature ({len(and_key_words_literature)})\", and_key_words_literature)"
   ]
  },
  {
   "cell_type": "code",
   "execution_count": 9,
   "id": "20306e57",
   "metadata": {},
   "outputs": [
    {
     "name": "stdout",
     "output_type": "stream",
     "text": [
      "A small company manufactures customized bicycles\n",
      "Whenever the sales department receives an order , a new process instance is created\n",
      "A member of the sales department can then reject or accept the order for a customized bike\n",
      "In the former case , the process instance is finished\n",
      "In the latter case , the storehouse and the engineering department are informed\n",
      "The storehouse immediately processes the part list of the order and checks the required quantity of each part\n",
      "If the part is available in-house , it is reserved\n",
      "If it is not available , it is back-ordered\n",
      "This procedure is repeated for each item on the part list\n",
      "In the meantime , the engineering department prepares everything for the assembling of the ordered bicycle\n",
      "If the storehouse has successfully reserved or back-ordered every item of the part list and the preparation activity has finished , the engineering department assembles the bicycle\n",
      "Afterwards , the sales department ships the bicycle to the customer and finishes the process instance\n"
     ]
    }
   ],
   "source": [
    "for s in doc_sentences_raw:\n",
    "    print(s)"
   ]
  },
  {
   "cell_type": "markdown",
   "id": "42c8d965",
   "metadata": {},
   "source": [
    "### 2.2 Extraction Algorithm"
   ]
  },
  {
   "cell_type": "code",
   "execution_count": 12,
   "id": "a421ded2",
   "metadata": {},
   "outputs": [],
   "source": [
    "def extract_gateways(sentence_list, key_words, target_gateway_label):\n",
    "    \"\"\"\n",
    "    extracts gateways in a key-word-based manner given a document structured in a list of sentences\n",
    "    if two phrases would match to a token (e.g. 'in the meantime' and 'meantime'), the longer phrase is extracted\n",
    "    target_gateway_label: str, must be 'XOR Gateway' or 'AND Gateway'\n",
    "    \n",
    "    result list is two dimensional -> list of tuples (word, position in sentence, tag) for each sentence\n",
    "    this produces the same structure as sentences and their NER labels are annotated in PET dataset\n",
    "    \"\"\"\n",
    "    gateways = []\n",
    "    # sort key words descending by length of words in phrase\n",
    "    key_words.sort(key=lambda key_word_phrase: len(key_word_phrase.split(\" \")), reverse=True)\n",
    "\n",
    "    # 1) extract gateways\n",
    "    for s_idx, sentence in enumerate(sentence_list):\n",
    "        # print(f\" SENTENCE {s_idx} \".center(50, '-'))\n",
    "        # print(sentence_list[s_idx])\n",
    "        sentence_gateways = []\n",
    "        sentence_to_search = f\" {sentence.lower()} \"  # lowercase and wrap with spaces for search of key words\n",
    "        tokens = sentence.split(\" \")\n",
    "        tokens_lower = sentence.lower().split(\" \")\n",
    "        tokens_already_matched_with_key_phrase = []\n",
    "\n",
    "        # iterate over key phrases\n",
    "        for key_phrase in key_words:\n",
    "            key_phrase_to_search = f\" {key_phrase} \"\n",
    "\n",
    "            # if key phrase is in sentence, search index and extract\n",
    "            if key_phrase_to_search in sentence_to_search:\n",
    "                key_phrase_tokens = key_phrase.split(\" \")\n",
    "                \n",
    "                # check key phrase for every token\n",
    "                for t_idx, token in enumerate(tokens_lower):\n",
    "                    candidate = True\n",
    "                    # iterate over key phrase tokens in case of multiple world phrase\n",
    "                    for key_phrase_token_idx, key_phrase_token in enumerate(key_phrase_tokens):\n",
    "                        # check if token is not part of key phrase or token is already matched with another phrase\n",
    "                        # if yes, stop processing candidate\n",
    "                        if not tokens_lower[t_idx + key_phrase_token_idx] == key_phrase_token or \\\n",
    "                            t_idx + key_phrase_token_idx in tokens_already_matched_with_key_phrase:\n",
    "                            candidate = False\n",
    "                            break\n",
    "                    \n",
    "                    # add tokens to result only if all tokens are matched and not already part of a longer phrase\n",
    "                    if candidate:\n",
    "                        for i, key_phrase_token in enumerate(key_phrase_tokens):\n",
    "                            prefix = \"B\" if i == 0 else \"I\"\n",
    "                            # append tuples with extract information as in PET and process information about gateways to filter later\n",
    "                            sentence_gateways.append((tokens[t_idx + i], t_idx + i, f\"{prefix}-{labels.XOR_GATEWAY}\"))\n",
    "                            tokens_already_matched_with_key_phrase.append(t_idx + i)\n",
    "\n",
    "        sentence_gateways.sort(key=lambda gateway_triple: gateway_triple[1])\n",
    "        gateways.append(sentence_gateways)\n",
    "\n",
    "    return gateways"
   ]
  },
  {
   "cell_type": "code",
   "execution_count": 13,
   "id": "ea280708",
   "metadata": {},
   "outputs": [
    {
     "name": "stdout",
     "output_type": "stream",
     "text": [
      "XOR GATEWAYS\n",
      "0 []\n",
      "1 []\n",
      "2 [('or', 9, 'B-XOR Gateway'), ('for', 13, 'B-XOR Gateway')]\n",
      "3 []\n",
      "4 []\n",
      "5 []\n",
      "6 [('If', 0, 'B-XOR Gateway')]\n",
      "7 [('If', 0, 'B-XOR Gateway')]\n",
      "8 [('for', 4, 'B-XOR Gateway')]\n",
      "9 [('for', 9, 'B-XOR Gateway')]\n",
      "10 [('If', 0, 'B-XOR Gateway'), ('or', 6, 'B-XOR Gateway')]\n",
      "11 []\n",
      "\n",
      "AND GATEWAYS\n",
      "0 []\n",
      "1 []\n",
      "2 []\n",
      "3 []\n",
      "4 []\n",
      "5 []\n",
      "6 []\n",
      "7 []\n",
      "8 []\n",
      "9 [('In', 0, 'B-XOR Gateway'), ('the', 1, 'I-XOR Gateway'), ('meantime', 2, 'I-XOR Gateway')]\n",
      "10 []\n",
      "11 []\n"
     ]
    }
   ],
   "source": [
    "# available key word lists: xor_key_words_gold, and_key_words_gold, xor_key_words_literature, and_key_words_literature\n",
    "o_xor_gateways = extract_gateways(doc_sentences_raw, xor_key_words_gold, labels.XOR_GATEWAY)\n",
    "o_and_gateways = extract_gateways(doc_sentences_raw, and_key_words_gold, labels.AND_GATEWAY)\n",
    "\n",
    "print(\"XOR GATEWAYS\")\n",
    "for idx, sentence_gateways in enumerate(o_xor_gateways):\n",
    "    print(idx, sentence_gateways)\n",
    "print(\"\\nAND GATEWAYS\")\n",
    "for idx, sentence_gateways in enumerate(o_and_gateways):\n",
    "    print(idx, sentence_gateways)"
   ]
  },
  {
   "cell_type": "markdown",
   "id": "74c920c4",
   "metadata": {},
   "source": [
    "## 3 Extract Control Flows"
   ]
  },
  {
   "cell_type": "markdown",
   "id": "54bc4a06",
   "metadata": {},
   "source": [
    "### 3.1 Involving AND gateways"
   ]
  },
  {
   "cell_type": "markdown",
   "id": "96b58bec",
   "metadata": {},
   "source": [
    "#### Input B): Extracted Gateways:"
   ]
  },
  {
   "cell_type": "code",
   "execution_count": 21,
   "id": "fdee1b95",
   "metadata": {},
   "outputs": [
    {
     "name": "stdout",
     "output_type": "stream",
     "text": [
      "0 []\n",
      "1 []\n",
      "2 []\n",
      "3 []\n",
      "4 []\n",
      "5 []\n",
      "6 []\n",
      "7 []\n",
      "8 []\n",
      "9 [('In', 0, 'B-XOR Gateway'), ('the', 1, 'I-XOR Gateway'), ('meantime', 2, 'I-XOR Gateway')]\n",
      "10 []\n",
      "11 []\n"
     ]
    }
   ],
   "source": [
    "for i, sentence_gateways in enumerate(o_and_gateways):\n",
    "    print(i, sentence_gateways)"
   ]
  },
  {
   "cell_type": "markdown",
   "id": "7f88ddcf",
   "metadata": {},
   "source": [
    "#### Input A): Activities:"
   ]
  },
  {
   "cell_type": "code",
   "execution_count": 20,
   "id": "5fa19d7e",
   "metadata": {},
   "outputs": [
    {
     "name": "stdout",
     "output_type": "stream",
     "text": [
      "0 []\n",
      "1 [['receives']]\n",
      "2 [['reject'], ['accept']]\n",
      "3 []\n",
      "4 [['informed']]\n",
      "5 [['processes'], ['checks']]\n",
      "6 [['reserved']]\n",
      "7 [['back-ordered']]\n",
      "8 []\n",
      "9 [['prepares']]\n",
      "10 [['assembles']]\n",
      "11 [['ships']]\n"
     ]
    }
   ],
   "source": [
    "for i, sentence_activities in enumerate(doc_activities):\n",
    "    print(i, sentence_activities)"
   ]
  },
  {
   "cell_type": "markdown",
   "id": "f54da788",
   "metadata": {},
   "source": [
    "#### Gold Data: Flow Relations that involve AND Gateways"
   ]
  },
  {
   "cell_type": "code",
   "execution_count": 36,
   "id": "d6942d86",
   "metadata": {
    "scrolled": false
   },
   "outputs": [
    {
     "name": "stdout",
     "output_type": "stream",
     "text": [
      "19\n",
      "source-head-sentence-ID: 1\n",
      "source-head-word-ID: 4\n",
      "source-entity-type: Activity\n",
      "source-entity: ['receives']\n",
      "target-head-sentence-ID: 2\n",
      "target-head-word-ID: 9\n",
      "target-entity-type: XOR Gateway\n",
      "target-entity: ['or']\n",
      "\n",
      "source-head-sentence-ID: 2\n",
      "source-head-word-ID: 9\n",
      "source-entity-type: XOR Gateway\n",
      "source-entity: ['or']\n",
      "target-head-sentence-ID: 2\n",
      "target-head-word-ID: 8\n",
      "target-entity-type: Activity\n",
      "target-entity: ['reject']\n",
      "\n",
      "source-head-sentence-ID: 2\n",
      "source-head-word-ID: 9\n",
      "source-entity-type: XOR Gateway\n",
      "source-entity: ['or']\n",
      "target-head-sentence-ID: 2\n",
      "target-head-word-ID: 10\n",
      "target-entity-type: Activity\n",
      "target-entity: ['accept']\n",
      "\n",
      "source-head-sentence-ID: 2\n",
      "source-head-word-ID: 10\n",
      "source-entity-type: Activity\n",
      "source-entity: ['accept']\n",
      "target-head-sentence-ID: 4\n",
      "target-head-word-ID: 12\n",
      "target-entity-type: Activity\n",
      "target-entity: ['informed']\n",
      "\n",
      "source-head-sentence-ID: 4\n",
      "source-head-word-ID: 12\n",
      "source-entity-type: Activity\n",
      "source-entity: ['informed']\n",
      "target-head-sentence-ID: 9\n",
      "target-head-word-ID: 0\n",
      "target-entity-type: AND Gateway\n",
      "target-entity: ['In', 'the', 'meantime']\n",
      "\n",
      "source-head-sentence-ID: 5\n",
      "source-head-word-ID: 3\n",
      "source-entity-type: Activity\n",
      "source-entity: ['processes']\n",
      "target-head-sentence-ID: 5\n",
      "target-head-word-ID: 11\n",
      "target-entity-type: Activity\n",
      "target-entity: ['checks']\n",
      "\n",
      "source-head-sentence-ID: 5\n",
      "source-head-word-ID: 11\n",
      "source-entity-type: Activity\n",
      "source-entity: ['checks']\n",
      "target-head-sentence-ID: 6\n",
      "target-head-word-ID: 0\n",
      "target-entity-type: XOR Gateway\n",
      "target-entity: ['If']\n",
      "\n",
      "source-head-sentence-ID: 6\n",
      "source-head-word-ID: 0\n",
      "source-entity-type: XOR Gateway\n",
      "source-entity: ['If']\n",
      "target-head-sentence-ID: 6\n",
      "target-head-word-ID: 1\n",
      "target-entity-type: Condition Specification\n",
      "target-entity: ['the', 'part', 'is', 'available', 'in-house']\n",
      "\n",
      "source-head-sentence-ID: 6\n",
      "source-head-word-ID: 1\n",
      "source-entity-type: Condition Specification\n",
      "source-entity: ['the', 'part', 'is', 'available', 'in-house']\n",
      "target-head-sentence-ID: 6\n",
      "target-head-word-ID: 9\n",
      "target-entity-type: Activity\n",
      "target-entity: ['reserved']\n",
      "\n",
      "source-head-sentence-ID: 6\n",
      "source-head-word-ID: 9\n",
      "source-entity-type: Activity\n",
      "source-entity: ['reserved']\n",
      "target-head-sentence-ID: 10\n",
      "target-head-word-ID: 0\n",
      "target-entity-type: XOR Gateway\n",
      "target-entity: ['If']\n",
      "\n",
      "source-head-sentence-ID: 7\n",
      "source-head-word-ID: 0\n",
      "source-entity-type: XOR Gateway\n",
      "source-entity: ['If']\n",
      "target-head-sentence-ID: 7\n",
      "target-head-word-ID: 1\n",
      "target-entity-type: Condition Specification\n",
      "target-entity: ['it', 'is', 'not', 'available']\n",
      "\n",
      "source-head-sentence-ID: 7\n",
      "source-head-word-ID: 1\n",
      "source-entity-type: Condition Specification\n",
      "source-entity: ['it', 'is', 'not', 'available']\n",
      "target-head-sentence-ID: 7\n",
      "target-head-word-ID: 8\n",
      "target-entity-type: Activity\n",
      "target-entity: ['back-ordered']\n",
      "\n",
      "source-head-sentence-ID: 7\n",
      "source-head-word-ID: 8\n",
      "source-entity-type: Activity\n",
      "source-entity: ['back-ordered']\n",
      "target-head-sentence-ID: 10\n",
      "target-head-word-ID: 0\n",
      "target-entity-type: XOR Gateway\n",
      "target-entity: ['If']\n",
      "\n",
      "source-head-sentence-ID: 9\n",
      "source-head-word-ID: 0\n",
      "source-entity-type: AND Gateway\n",
      "source-entity: ['In', 'the', 'meantime']\n",
      "target-head-sentence-ID: 9\n",
      "target-head-word-ID: 7\n",
      "target-entity-type: Activity\n",
      "target-entity: ['prepares']\n",
      "\n",
      "source-head-sentence-ID: 9\n",
      "source-head-word-ID: 0\n",
      "source-entity-type: AND Gateway\n",
      "source-entity: ['In', 'the', 'meantime']\n",
      "target-head-sentence-ID: 5\n",
      "target-head-word-ID: 3\n",
      "target-entity-type: Activity\n",
      "target-entity: ['processes']\n",
      "\n",
      "source-head-sentence-ID: 9\n",
      "source-head-word-ID: 7\n",
      "source-entity-type: Activity\n",
      "source-entity: ['prepares']\n",
      "target-head-sentence-ID: 10\n",
      "target-head-word-ID: 0\n",
      "target-entity-type: XOR Gateway\n",
      "target-entity: ['If']\n",
      "\n",
      "source-head-sentence-ID: 10\n",
      "source-head-word-ID: 0\n",
      "source-entity-type: XOR Gateway\n",
      "source-entity: ['If']\n",
      "target-head-sentence-ID: 10\n",
      "target-head-word-ID: 1\n",
      "target-entity-type: Condition Specification\n",
      "target-entity: ['the', 'storehouse', 'has', 'successfully', 'reserved', 'or', 'back-ordered', 'every', 'item', 'of', 'the', 'part', 'list']\n",
      "\n",
      "source-head-sentence-ID: 10\n",
      "source-head-word-ID: 1\n",
      "source-entity-type: Condition Specification\n",
      "source-entity: ['the', 'storehouse', 'has', 'successfully', 'reserved', 'or', 'back-ordered', 'every', 'item', 'of', 'the', 'part', 'list']\n",
      "target-head-sentence-ID: 10\n",
      "target-head-word-ID: 24\n",
      "target-entity-type: Activity\n",
      "target-entity: ['assembles']\n",
      "\n",
      "source-head-sentence-ID: 10\n",
      "source-head-word-ID: 24\n",
      "source-entity-type: Activity\n",
      "source-entity: ['assembles']\n",
      "target-head-sentence-ID: 11\n",
      "target-head-word-ID: 5\n",
      "target-entity-type: Activity\n",
      "target-entity: ['ships']\n",
      "\n"
     ]
    }
   ],
   "source": [
    "print(len(doc_flow_relations))\n",
    "for i, flow_relation in enumerate(doc_flow_relations):\n",
    "    for key, value in flow_relation.items():\n",
    "        print(f\"{key}: {value}\")\n",
    "    print()"
   ]
  },
  {
   "cell_type": "code",
   "execution_count": 25,
   "id": "ea783783",
   "metadata": {
    "scrolled": false
   },
   "outputs": [
    {
     "name": "stdout",
     "output_type": "stream",
     "text": [
      "source-head-sentence-ID: 4\n",
      "source-head-word-ID: 12\n",
      "source-entity-type: Activity\n",
      "source-entity: ['informed']\n",
      "target-head-sentence-ID: 9\n",
      "target-head-word-ID: 0\n",
      "target-entity-type: AND Gateway\n",
      "target-entity: ['In', 'the', 'meantime']\n",
      "\n",
      "source-head-sentence-ID: 9\n",
      "source-head-word-ID: 0\n",
      "source-entity-type: AND Gateway\n",
      "source-entity: ['In', 'the', 'meantime']\n",
      "target-head-sentence-ID: 9\n",
      "target-head-word-ID: 7\n",
      "target-entity-type: Activity\n",
      "target-entity: ['prepares']\n",
      "\n",
      "source-head-sentence-ID: 9\n",
      "source-head-word-ID: 0\n",
      "source-entity-type: AND Gateway\n",
      "source-entity: ['In', 'the', 'meantime']\n",
      "target-head-sentence-ID: 5\n",
      "target-head-word-ID: 3\n",
      "target-entity-type: Activity\n",
      "target-entity: ['processes']\n",
      "\n"
     ]
    }
   ],
   "source": [
    "for i, flow_relation in enumerate(doc_flow_relations_and):\n",
    "    for key, value in flow_relation.items():\n",
    "        print(f\"{key}: {value}\")\n",
    "    print()"
   ]
  },
  {
   "cell_type": "code",
   "execution_count": 24,
   "id": "22eb1107",
   "metadata": {},
   "outputs": [
    {
     "name": "stdout",
     "output_type": "stream",
     "text": [
      "0 A small company manufactures customized bicycles\n",
      "1 Whenever the sales department receives an order , a new process instance is created\n",
      "2 A member of the sales department can then reject or accept the order for a customized bike\n",
      "3 In the former case , the process instance is finished\n",
      "4 In the latter case , the storehouse and the engineering department are informed\n",
      "5 The storehouse immediately processes the part list of the order and checks the required quantity of each part\n",
      "6 If the part is available in-house , it is reserved\n",
      "7 If it is not available , it is back-ordered\n",
      "8 This procedure is repeated for each item on the part list\n",
      "9 In the meantime , the engineering department prepares everything for the assembling of the ordered bicycle\n",
      "10 If the storehouse has successfully reserved or back-ordered every item of the part list and the preparation activity has finished , the engineering department assembles the bicycle\n",
      "11 Afterwards , the sales department ships the bicycle to the customer and finishes the process instance\n"
     ]
    }
   ],
   "source": [
    "for i, s in enumerate(doc_sentences_raw):\n",
    "    print(i, s)"
   ]
  },
  {
   "cell_type": "markdown",
   "id": "1231c6f4",
   "metadata": {},
   "source": [
    "#### Extraction\n",
    "+ for every gateway, to extract parallel branches, add relation to next activity after and before\n",
    "    + for each case, check over borders if not found in same sentence\n",
    "+ to extract the flow relation that points to the gateway merge point, take the second before\n",
    "+ Assumption: only one parallel gateway per sentence\n",
    "\n",
    "Processing is oriented by rules of Ferreira et al. 2017 how AND gateways are usually structured"
   ]
  },
  {
   "cell_type": "code",
   "execution_count": 80,
   "id": "16545b55",
   "metadata": {},
   "outputs": [
    {
     "name": "stdout",
     "output_type": "stream",
     "text": [
      "-------------- Sentence 0 --------------\n",
      "A small company manufactures customized bicycles\n",
      "[]\n",
      "[]\n",
      "-------------- Sentence 1 --------------\n",
      "Whenever the sales department receives an order , a new process instance is created\n",
      "[(['receives'], 4)]\n",
      "[]\n",
      "-------------- Sentence 2 --------------\n",
      "A member of the sales department can then reject or accept the order for a customized bike\n",
      "[(['reject'], 8), (['accept'], 10)]\n",
      "[]\n",
      "-------------- Sentence 3 --------------\n",
      "In the former case , the process instance is finished\n",
      "[]\n",
      "[]\n",
      "-------------- Sentence 4 --------------\n",
      "In the latter case , the storehouse and the engineering department are informed\n",
      "[(['informed'], 12)]\n",
      "[]\n",
      "-------------- Sentence 5 --------------\n",
      "The storehouse immediately processes the part list of the order and checks the required quantity of each part\n",
      "[(['processes'], 3), (['checks'], 11)]\n",
      "[]\n",
      "-------------- Sentence 6 --------------\n",
      "If the part is available in-house , it is reserved\n",
      "[(['reserved'], 9)]\n",
      "[]\n",
      "-------------- Sentence 7 --------------\n",
      "If it is not available , it is back-ordered\n",
      "[(['back-ordered'], 8)]\n",
      "[]\n",
      "-------------- Sentence 8 --------------\n",
      "This procedure is repeated for each item on the part list\n",
      "[]\n",
      "[]\n",
      "-------------- Sentence 9 --------------\n",
      "In the meantime , the engineering department prepares everything for the assembling of the ordered bicycle\n",
      "[(['prepares'], 7)]\n",
      "[('In', 0, 'B-XOR Gateway'), ('the', 1, 'I-XOR Gateway'), ('meantime', 2, 'I-XOR Gateway')]\n",
      "Gateway (lead token) ('In', 0, 'B-XOR Gateway')\n",
      "previous_activity: (7, 8, ['back-ordered'])\n",
      "second_previous_activity: (6, 9, ['reserved'])\n",
      "following_activity: (9, 7, ['prepares'])\n",
      "------------- Sentence 10 --------------\n",
      "If the storehouse has successfully reserved or back-ordered every item of the part list and the preparation activity has finished , the engineering department assembles the bicycle\n",
      "[(['assembles'], 24)]\n",
      "[]\n",
      "------------- Sentence 11 --------------\n",
      "Afterwards , the sales department ships the bicycle to the customer and finishes the process instance\n",
      "[(['ships'], 5)]\n",
      "[]\n"
     ]
    }
   ],
   "source": [
    "# 1) METHODS FOR EXTRACTING THE PREVIOUS (INCL. SECOND PREVIOUS) AND NEXT ACTIVITY\n",
    "\n",
    "def get_previous_activity(sentence_idx, token_idx, doc_activity_tokens, skip_first=False, one_already_found=False):\n",
    "    \"\"\"\n",
    "    search recursive for the second last previous activity from a start point defined by sentence_idx and token_idx\n",
    "    sentence_idx: sentence index where to start the search\n",
    "    token_idx: token index where to stat the search\n",
    "    doc_activity_tokens: list of activity lists (describes whole document)\n",
    "    skip_first: True if searching for the second previous activity, False (default) when searching for the previous activity\n",
    "    one_already_found: flag if one activity was already found and skipped for return in course of search for the second previous\n",
    "    \n",
    "    returns: triple of (sentence idx, token_idx, token)\n",
    "    \"\"\"\n",
    "    # search for activities left to the token in target sentence if token is given else in the whole\n",
    "    if token_idx is not None:\n",
    "        previous_activities_sentence = [a_t for a_t in doc_activity_tokens[sentence_idx] if a_t[1] < token_idx]\n",
    "    else:\n",
    "        previous_activities_sentence = [a_t for a_t in doc_activity_tokens[sentence_idx]]\n",
    "    \n",
    "    if previous_activities_sentence:\n",
    "        # return when just searching the first last activity OR when one was already found before\n",
    "        previous_activity = previous_activities_sentence[-1]\n",
    "        # A) base case: activity found\n",
    "        if not skip_first or one_already_found:\n",
    "            return (sentence_idx, previous_activity[1], previous_activity[0])\n",
    "        # B) recursive case: continue search for second previous activity at index of previous activity\n",
    "        else:\n",
    "            return get_previous_activity(sentence_idx, previous_activity[1], doc_activity_tokens, one_already_found=True)\n",
    "    # B) recursive case: continue search for previous activity in previous sentence\n",
    "    else:\n",
    "        next_sentence_idx = sentence_idx - 1\n",
    "        # no sentences any more to search\n",
    "        if next_sentence_idx == -1:\n",
    "            return None\n",
    "        # otherwise search recursively the previous sentence\n",
    "        else:\n",
    "            return get_previous_activity(next_sentence_idx, None, doc_activity_tokens, \n",
    "                                         skip_first=skip_first, one_already_found=one_already_found)\n",
    "\n",
    "def get_following_activity(sentence_idx, token_idx, doc_activity_tokens):\n",
    "    \"\"\"\n",
    "    search recursive for the next following activity from a start point defined by sentence_idx and token_idx\n",
    "    sentence_idx: sentence index where to start the search\n",
    "    token_idx: token index where to stat the search\n",
    "    doc_activity_tokens: list of activity lists (describes whole document)\n",
    "    \n",
    "    returns: triple of (sentence idx, token_idx, token)\n",
    "    \"\"\"\n",
    "    # search for activities right to the token in target sentence if token is given else in the whole\n",
    "    if token_idx is not None:\n",
    "        following_activities_sentence = [a_t for a_t in doc_activity_tokens[sentence_idx] if a_t[1] > token_idx]\n",
    "    else:\n",
    "        following_activities_sentence = [a_t for a_t in doc_activity_tokens[sentence_idx]]\n",
    "    \n",
    "    # if activities were found, take the last one\n",
    "    if following_activities_sentence:\n",
    "        a_t = following_activities_sentence[-1]\n",
    "        return (sentence_idx, a_t[1], a_t[0])\n",
    "    else:\n",
    "        next_sentence_idx = sentence_idx + 1\n",
    "        # no sentences any more to search\n",
    "        if next_sentence_idx == len(doc_activity_tokens):\n",
    "            return None\n",
    "        # otherwise search recursively the following sentence\n",
    "        else:\n",
    "            return get_following_activity(next_sentence_idx, None, doc_activity_tokens)\n",
    "        \n",
    "    \n",
    "# 2) EXTRACT RELATIONS\n",
    "\n",
    "o_flow_relations_and = []\n",
    "\n",
    "for s_idx, (sentence, activity_tokens, gateways) in enumerate(zip(doc_sentences_raw, doc_activity_tokens, o_and_gateways)):\n",
    "    print(f\" Sentence {s_idx} \".center(40, '-'))\n",
    "    print(sentence)\n",
    "    print(activity_tokens)\n",
    "    print(gateways)\n",
    "    if gateways:\n",
    "        # assume only one gateway and take the first token of it\n",
    "        gateway_lead_token = gateways[0]\n",
    "        previous_activity = get_previous_activity(s_idx, gateway_lead_token[1], doc_activity_tokens)\n",
    "        second_previous_activity = get_previous_activity(s_idx, gateway_lead_token[1], doc_activity_tokens, skip_first=True)\n",
    "        following_activity = get_following_activity(s_idx, gateway_lead_token[1], doc_activity_tokens)\n",
    "        print(\"Gateway (lead token)\", gateway_lead_token)\n",
    "        print(\"previous_activity:\", previous_activity)\n",
    "        print(\"second_previous_activity:\", second_previous_activity)\n",
    "        print(\"following_activity:\", following_activity)\n",
    "\n",
    "\n",
    "# 3) TRANSFORM RELATIONS IN CORRECT FORMAT"
   ]
  },
  {
   "cell_type": "markdown",
   "id": "d314430f",
   "metadata": {},
   "source": [
    "### 3.2 Involving XOR gateways"
   ]
  },
  {
   "cell_type": "markdown",
   "id": "f8b1df07",
   "metadata": {},
   "source": [
    "## 4 Evaluate Extraction"
   ]
  }
 ],
 "metadata": {
  "kernelspec": {
   "display_name": "Python 3 (ipykernel)",
   "language": "python",
   "name": "python3"
  },
  "language_info": {
   "codemirror_mode": {
    "name": "ipython",
    "version": 3
   },
   "file_extension": ".py",
   "mimetype": "text/x-python",
   "name": "python",
   "nbconvert_exporter": "python",
   "pygments_lexer": "ipython3",
   "version": "3.8.13"
  }
 },
 "nbformat": 4,
 "nbformat_minor": 5
}
