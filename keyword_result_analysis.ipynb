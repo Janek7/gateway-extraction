{
 "cells": [
  {
   "cell_type": "code",
   "execution_count": 1,
   "id": "9943efc0",
   "metadata": {},
   "outputs": [
    {
     "name": "stderr",
     "output_type": "stream",
     "text": [
      "INFO:PetReader:Load RelationsExtraction dataset ...\n",
      "WARNING:datasets.builder:Reusing dataset pet (C:\\Users\\janek\\.cache\\huggingface\\datasets\\patriziobellan___pet\\relations-extraction\\1.0.1\\38434e2af57af533c400c8975f37e43c08bb77739085a3c026a862b2efb668d2)\n"
     ]
    },
    {
     "name": "stdout",
     "output_type": "stream",
     "text": [
      "\n",
      "\n",
      " _______ _     _ _______       _____  _______ _______      ______  _______ _______ _______ _______ _______ _______\n",
      "    |    |_____| |______      |_____] |______    |         |     \\ |_____|    |    |_____| |______ |______    |   \n",
      "    |    |     | |______      |       |______    |         |_____/ |     |    |    |     | ______| |______    |   \n",
      "                                                                                                                  \n",
      "Discover more at: [https://pdi.fbk.eu/pet-dataset/]\n",
      "\n"
     ]
    },
    {
     "data": {
      "application/json": {
       "ascii": false,
       "bar_format": null,
       "colour": null,
       "elapsed": 0.08734750747680664,
       "initial": 0,
       "n": 0,
       "ncols": null,
       "nrows": 29,
       "postfix": null,
       "prefix": "",
       "rate": null,
       "total": 1,
       "unit": "it",
       "unit_divisor": 1000,
       "unit_scale": false
      },
      "application/vnd.jupyter.widget-view+json": {
       "model_id": "fba736278b2b4b509862353cbee06702",
       "version_major": 2,
       "version_minor": 0
      },
      "text/plain": [
       "  0%|          | 0/1 [00:00<?, ?it/s]"
      ]
     },
     "metadata": {},
     "output_type": "display_data"
    },
    {
     "name": "stderr",
     "output_type": "stream",
     "text": [
      "INFO:PetReader:Load TokenClassification dataset ...\n",
      "WARNING:datasets.builder:Reusing dataset pet (C:\\Users\\janek\\.cache\\huggingface\\datasets\\patriziobellan___pet\\token-classification\\1.0.1\\38434e2af57af533c400c8975f37e43c08bb77739085a3c026a862b2efb668d2)\n"
     ]
    },
    {
     "name": "stdout",
     "output_type": "stream",
     "text": [
      "\n",
      "\n",
      " _______ _     _ _______       _____  _______ _______      ______  _______ _______ _______ _______ _______ _______\n",
      "    |    |_____| |______      |_____] |______    |         |     \\ |_____|    |    |_____| |______ |______    |   \n",
      "    |    |     | |______      |       |______    |         |_____/ |     |    |    |     | ______| |______    |   \n",
      "                                                                                                                  \n",
      "Discover more at: [https://pdi.fbk.eu/pet-dataset/]\n",
      "\n"
     ]
    },
    {
     "data": {
      "application/json": {
       "ascii": false,
       "bar_format": null,
       "colour": null,
       "elapsed": 0.04488182067871094,
       "initial": 0,
       "n": 0,
       "ncols": null,
       "nrows": 29,
       "postfix": null,
       "prefix": "",
       "rate": null,
       "total": 1,
       "unit": "it",
       "unit_divisor": 1000,
       "unit_scale": false
      },
      "application/vnd.jupyter.widget-view+json": {
       "model_id": "d42f58176ee5453285826d461505c7de",
       "version_major": 2,
       "version_minor": 0
      },
      "text/plain": [
       "  0%|          | 0/1 [00:00<?, ?it/s]"
      ]
     },
     "metadata": {},
     "output_type": "display_data"
    }
   ],
   "source": [
    "import copy\n",
    "from utils import read_json_to_dict\n",
    "from PetReader import pet_reader\n",
    "from petreader.labels import *"
   ]
  },
  {
   "cell_type": "markdown",
   "id": "706654e4",
   "metadata": {},
   "source": [
    "## Load Results"
   ]
  },
  {
   "cell_type": "code",
   "execution_count": 14,
   "id": "44ac4302",
   "metadata": {},
   "outputs": [],
   "source": [
    "token_cls_goldstandard = read_json_to_dict(\"data/other/token_goldstandard.json\")\n",
    "keywords_gold_token_cls_results = read_json_to_dict(\"data/results/key_words_gold/results-token-classification-key_words_gold.json\")\n",
    "keywords_gold_token_cls = read_json_to_dict(\"data/results/key_words_gold/token-classification.json\")\n"
   ]
  },
  {
   "cell_type": "markdown",
   "id": "e45b2edf",
   "metadata": {},
   "source": [
    "## Debug"
   ]
  },
  {
   "cell_type": "code",
   "execution_count": 29,
   "id": "25ada588",
   "metadata": {},
   "outputs": [
    {
     "name": "stdout",
     "output_type": "stream",
     "text": [
      "[['If'], ['otherwise'], ['If'], ['otherwise']]\n"
     ]
    }
   ],
   "source": [
    "from petreader.TokenClassification import TokenClassification\n",
    "from petbenchmarks.tokenclassification import TokenClassificationBenchmark\n",
    "benchmark = TokenClassificationBenchmark(pet_reader.token_dataset)\n",
    "\n",
    "gold = benchmark.GetGoldStandard()\n",
    "print(gold['doc-3.2'][XOR_GATEWAY])"
   ]
  },
  {
   "cell_type": "code",
   "execution_count": 22,
   "id": "5ebf2740",
   "metadata": {},
   "outputs": [
    {
     "name": "stdout",
     "output_type": "stream",
     "text": [
      "[[], [['If'], ['otherwise']], [], []]\n"
     ]
    }
   ],
   "source": [
    "print(pet_reader.token_dataset.GetXORGateways('doc-3.2'))"
   ]
  },
  {
   "cell_type": "markdown",
   "id": "d98e67b8",
   "metadata": {},
   "source": [
    "## Analyze Gold Keyword Results"
   ]
  },
  {
   "cell_type": "markdown",
   "id": "93ef0bb3",
   "metadata": {},
   "source": [
    "### a) check for documents with recall != 1"
   ]
  },
  {
   "cell_type": "code",
   "execution_count": 21,
   "id": "ba971d52",
   "metadata": {
    "collapsed": true
   },
   "outputs": [
    {
     "name": "stdout",
     "output_type": "stream",
     "text": [
      "----------------------------------------------doc-6.4-----------------------------------------------\n",
      "--Text--\n",
      "0 The first step is to determine contact details of potential customers .\n",
      "1 This can be achieved in several ways .\n",
      "2 Sometimes , we buy details for cold calls , sometimes , our marketing staff participates in exhibitions and sometimes , you just happen to know somebody , who is interested in the product .\n",
      "3 Then we start calling the customer .\n",
      "4 That is done by the call center staff .\n",
      "5 They are determining the contact person and the budget which would be available for the project .\n",
      "6 Of course , asking the customer whether he is generally interested is also important .\n",
      "7 If this is not the case , we leave him alone , except if the potential project budget is huge .\n",
      "8 Then the head of development personally tries to acquire the customer .\n",
      "9 If the customer is interested in the end , the next step is a detailed online presentation .\n",
      "10 It is given either by a sales representative or by a pre-sales employee in case of a more technical presentation .\n",
      "11 Afterwards we are waiting for the customer to come back to us .\n",
      "12 If we are not contacted within 2 weeks , a sales representative is calling the customer .\n",
      "13 The last phase is the creation of a quotation .\n",
      "\n",
      "--Results--: {'true-positive': 7, 'false-positive': 6, 'true-negative': 0, 'false-negative': 8, 'precision': 0.5384615384615384, 'recall': 0.4666666666666667, 'f1-score': 0.5, 'supports': 7}\n",
      "\n",
      "--Extracted--: [['Sometimes'], ['for'], ['sometimes'], ['sometimes'], ['for'], ['If'], ['if'], ['If'], ['either'], ['or'], ['in', 'case', 'of'], ['for'], ['If']]\n",
      "\n",
      "--Gold standard--: [['Sometimes'], ['sometimes'], ['sometimes'], ['Sometimes'], ['sometimes'], ['sometimes'], ['Sometimes'], ['sometimes'], ['sometimes'], ['If'], ['if'], ['If'], ['if'], ['If'], ['If']]\n",
      "\n",
      "----------------------------------------------doc-1.2-----------------------------------------------\n",
      "--Text--\n",
      "0 A customer brings in a defective computer and the CRS checks the defect and hands out a repair cost calculation back .\n",
      "1 If the customer decides that the costs are acceptable , the process continues , otherwise she takes her computer home unrepaired .\n",
      "2 The ongoing repair consists of two activities , which are executed , in an arbitrary order .\n",
      "3 The first activity is to check and repair the hardware , whereas the second activity checks and configures the software .\n",
      "4 After each of these activities , the proper system functionality is tested .\n",
      "5 If an error is detected another arbitrary repair activity is executed , otherwise the repair is finished .\n",
      "\n",
      "--Results--: {'true-positive': 4, 'false-positive': 1, 'true-negative': 0, 'false-negative': 4, 'precision': 0.8, 'recall': 0.5, 'f1-score': 0.6153846153846154, 'supports': 4}\n",
      "\n",
      "--Extracted--: [['If'], ['otherwise'], ['whereas'], ['If'], ['otherwise']]\n",
      "\n",
      "--Gold standard--: [['If'], ['otherwise'], ['If'], ['otherwise'], ['If'], ['otherwise'], ['If'], ['otherwise']]\n",
      "\n",
      "----------------------------------------------doc-8.3-----------------------------------------------\n",
      "--Text--\n",
      "0 I am the Head of the functional department .\n",
      "1 When I have detected a number of personnel requirements , I report the vacancy to the Personnel Department .\n",
      "2 Then I wait to get the job description for review before it is advertized .\n",
      "3 Under certain circumstances , I must ask for corrections again , otherwise I approve the job description .\n",
      "4 Sometimes it also happens that the colleague from the HR department still has questions about the tasks and requirements before he can describe the job .\n",
      "5 Then I am available for clarifications , of course .\n",
      "\n",
      "--Results--: {'true-positive': 2, 'false-positive': 4, 'true-negative': 0, 'false-negative': 2, 'precision': 0.3333333333333333, 'recall': 0.5, 'f1-score': 0.4, 'supports': 2}\n",
      "\n",
      "--Extracted--: [['for'], ['Under', 'certain', 'circumstances'], ['for'], ['otherwise'], ['Sometimes'], ['for']]\n",
      "\n",
      "--Gold standard--: [['Under', 'certain', 'circumstances'], ['otherwise'], ['Under', 'certain', 'circumstances'], ['otherwise']]\n",
      "\n",
      "----------------------------------------------doc-3.2-----------------------------------------------\n",
      "--Text--\n",
      "0 Each morning , the files which have yet to be processed need to be checked , to make sure they are in order for the court hearing that day .\n",
      "1 If some files are missing , a search is initiated , otherwise the files can be physically tracked to the intended location .\n",
      "2 Once all the files are ready , these are handed to the Associate , and meantime the Judgeis Lawlist is distributed to the relevant people .\n",
      "3 Afterwards , the directions hearings are conducted .\n",
      "\n",
      "--Results--: {'true-positive': 2, 'false-positive': 1, 'true-negative': 0, 'false-negative': 2, 'precision': 0.6666666666666666, 'recall': 0.5, 'f1-score': 0.5714285714285715, 'supports': 2}\n",
      "\n",
      "--Extracted--: [['for'], ['If'], ['otherwise']]\n",
      "\n",
      "--Gold standard--: [['If'], ['otherwise'], ['If'], ['otherwise']]\n",
      "\n",
      "----------------------------------------------doc-2.1-----------------------------------------------\n",
      "--Text--\n",
      "0 At the beginning the customer perceives that her subscribed service has degraded .\n",
      "1 A list with all the problem parameters is then sent to the Customer Service department of TELECO .\n",
      "2 At the customer service an employee enters ( based on the received data ) a problem report into system T . .\n",
      "3 Then the problem report is compared to the customer SLA to identify what the extent and the details of the service degradation are .\n",
      "4 Based on this , the necessary counter measures are determined including their respective priorities .\n",
      "5 An electronic service then determines the significance of the customer based on information that has been collected during the history of the contractual relationship .\n",
      "6 In case the customer is premium , the process will link to an extra problem fix process ( this process will not be detailed here ) .\n",
      "7 In case the customer is of certain significance which would affect the counter measures previously decided upon , the process goes back to re-prioritize these measures otherwise the process continues .\n",
      "8 Taking together the information ( i.e . contract commitment data + prioritized actions ) a detailed problem report is created .\n",
      "9 The detailed problem report is then sent to Service Management .\n",
      "10 Service Management deals on a first level with violations of quality in services that are provided to customers .\n",
      "11 After receiving the detailed problem report , Service management investigates whether the problem is analyzable at the level of their department or whether the problem may be located at Resource Provisioning .\n",
      "12 In case Service Management assesses the problem to be not analyzable by themselves , the detailed problem report is sent out to Resource Provisioning .\n",
      "13 If Service Management is sure they can analyze it , they perform the analysis and based on the outcome they create a trouble report that indicates the type of problem .\n",
      "14 After Resource Provisioning receives the detailed problem report , it is checked whether there are any possible problems .\n",
      "15 If no problems are detected , a notification about the normal service execution is created .\n",
      "16 If a problem is detected this will be analyzed by Resource Provisioning and a trouble report is created .\n",
      "17 Either trouble report or the normal execution notification will be included in a status report and sent back to Service Management .\n",
      "18 Service Management then prepares the final status report based on the received information .\n",
      "19 Subsequently it has to be determined what counter measures should be taken depending on the information in the final status report .\n",
      "20 Three alternative process paths may be taken .\n",
      "21 For the case that no problem was detected at all , the actual service performance is sent back to the Customer Service .\n",
      "22 For the case that minor corrective actions are required , Service Management will undertake corrective actions by themselves .\n",
      "23 Subsequently , the problem resolution report is created and then sent out to Customer Service .\n",
      "24 After sending , this process path of Service Management ends .\n",
      "25 For the case that automatic resource restoration from Resource Provisioning is required , Service Management must create a request for automatic resource restoration .\n",
      "26 This message is then sent to Resource Provisioning .\n",
      "27 Resource Provisioning has been on-hold and waiting for a restoration request but this must happen within 2 days after the status report was sent out , otherwise Resource Provisioning terminates the process .\n",
      "28 After the restoration request is received , all possible errors are tracked .\n",
      "29 Based on the tracked errors , all necessary corrective actions are undertaken by Resource Provisioning .\n",
      "30 Then a trouble-shooting report is created .\n",
      "31 This report is sent out to Service Management ; then the process ends .\n",
      "32 The trouble-shooting report is received by Service Management and this information goes then into the creation of the problem resolution report just as described for ii ) .\n",
      "33 Customer Service either receives the actual service performance ( if there was no problem ) or the problem resolution report .\n",
      "34 Then , two concurrent activities are triggered , i.e . i ) a report is created for the customer which details the current service performance and the resolution of the problem , and ii ) an SLA violation rebate is reported to Billing & Collections who will adjust the billing .\n",
      "35 The report for the customer is sent out to her .\n",
      "36 After all three activities are completed the process ends within Customer Service .\n",
      "37 After the customer then receives the report about service performance and problem resolution from Customer Service , the process flow at the customer also ends .\n",
      "\n",
      "--Results--: {'true-positive': 11, 'false-positive': 12, 'true-negative': 0, 'false-negative': 1, 'precision': 0.4782608695652174, 'recall': 0.9166666666666666, 'f1-score': 0.6285714285714286, 'supports': 10}\n",
      "\n",
      "--Extracted--: [['In', 'case'], ['In', 'case'], ['otherwise'], ['or'], ['In', 'case'], ['If'], ['If'], ['If'], ['Either'], ['or'], ['should'], ['For', 'the', 'case'], ['For', 'the', 'case'], ['For', 'the', 'case'], ['for'], ['for'], ['otherwise'], ['for'], ['either'], ['if'], ['or'], ['for'], ['for']]\n",
      "\n",
      "--Gold standard--: [['In', 'case'], ['In', 'case'], ['otherwise'], ['In', 'case'], ['otherwise'], ['In', 'case'], ['If'], ['If'], ['If'], ['For', 'the', 'case'], ['For', 'the', 'case'], ['For', 'the', 'case']]\n",
      "\n"
     ]
    }
   ],
   "source": [
    "for doc_name, doc_dict in keywords_gold_token_cls_results.items():\n",
    "    if doc_name.startswith('doc'):\n",
    "        if doc_dict[XOR_GATEWAY][RECALL] != 1 and doc_dict[XOR_GATEWAY][SUPPORT] != 0:\n",
    "            print(doc_name.center(100, '-'))\n",
    "            print(\"--Text--\")\n",
    "            for i, line in enumerate(pet_reader.get_doc_sentences(doc_name)):\n",
    "                print(i, ' '.join(line))\n",
    "            print()\n",
    "            print(\"--Results--:\", doc_dict[XOR_GATEWAY])\n",
    "            print()\n",
    "            print(\"--Extracted--:\", keywords_gold_token_cls[doc_name][XOR_GATEWAY])\n",
    "            print()\n",
    "            print(\"--Gold standard--:\", token_cls_goldstandard[doc_name][XOR_GATEWAY])\n",
    "            print()"
   ]
  },
  {
   "cell_type": "markdown",
   "id": "7392d5a3",
   "metadata": {},
   "source": [
    "## b) Analyze False Positives"
   ]
  },
  {
   "cell_type": "code",
   "execution_count": 69,
   "id": "730c7d45",
   "metadata": {},
   "outputs": [],
   "source": [
    "def analyze_keyword_stats(gateway_type: str, doc_names=[]):\n",
    "    keyword_stats = {}\n",
    "    empty_stats_dict = {\"TP\": 0, \"FP\": 0, \"FN\": 0, \"TPs\": [], \"FPs\": [], \"FNs\": []}\n",
    "\n",
    "    for doc_name, doc_dict in keywords_gold_token_cls_results.items():\n",
    "        \n",
    "        if doc_name.startswith('doc'):  # result dict contains as well keys for statistics            \n",
    "            if not doc_names or doc_name in doc_names:  # filter for (optionally) passed list\n",
    "\n",
    "                # remove gateways step by step if they were identified; left overs are false positives\n",
    "                not_discovered_golds = [[t.lower() for t in g] for g in token_cls_goldstandard[doc_name][gateway_type].copy()]\n",
    "\n",
    "                for extracted in keywords_gold_token_cls[doc_name][gateway_type]:\n",
    "                    extracted = [t.lower() for t in extracted]\n",
    "                    extracted_key = ' '.join(extracted)\n",
    "\n",
    "                    # setup keyword dict in case it was not observed yet\n",
    "                    if extracted_key not in keyword_stats:\n",
    "                        keyword_stats[extracted_key] = copy.deepcopy(empty_stats_dict)\n",
    "\n",
    "                    # 1) CHECK FOR FPs\n",
    "                    if extracted not in not_discovered_golds:\n",
    "                        keyword_stats[extracted_key][\"FP\"] += 1\n",
    "                        keyword_stats[extracted_key][\"FPs\"].append(doc_name)\n",
    "\n",
    "                    # 2) CHECK FOR TPs\n",
    "                    else:\n",
    "                        keyword_stats[extracted_key][\"TP\"] += 1\n",
    "                        keyword_stats[extracted_key][\"TPs\"].append(doc_name)\n",
    "                        not_discovered_golds.remove(extracted)\n",
    "\n",
    "                # 3) FILL FNs (FPs from list not_discovered_xor_golds got removed during previous loop)\n",
    "                for not_extracted in not_discovered_golds:\n",
    "                    not_extracted_key = ' '.join(not_extracted)\n",
    "\n",
    "                    # setup keyword dict in case it was not observed yet\n",
    "                    if not_extracted_key not in keyword_stats:\n",
    "                        keyword_stats[not_extracted_key] = copy.deepcopy(empty_stats_dict)\n",
    "\n",
    "                    keyword_stats[not_extracted_key][\"FN\"] += 1\n",
    "                    keyword_stats[not_extracted_key][\"FNs\"].append(doc_name)\n",
    "    \n",
    "    return keyword_stats\n",
    "                \n",
    "xor_keyword_stats = analyze_keyword_stats(XOR_GATEWAY)# [\"doc-3.2\"])\n",
    "and_keyword_stats = analyze_keyword_stats(AND_GATEWAY)# [\"doc-3.2\"])"
   ]
  },
  {
   "cell_type": "code",
   "execution_count": null,
   "id": "5bd8078f",
   "metadata": {},
   "outputs": [],
   "source": [
    "\n"
   ]
  }
 ],
 "metadata": {
  "kernelspec": {
   "display_name": "Python 3 (ipykernel)",
   "language": "python",
   "name": "python3"
  },
  "language_info": {
   "codemirror_mode": {
    "name": "ipython",
    "version": 3
   },
   "file_extension": ".py",
   "mimetype": "text/x-python",
   "name": "python",
   "nbconvert_exporter": "python",
   "pygments_lexer": "ipython3",
   "version": "3.8.13"
  }
 },
 "nbformat": 4,
 "nbformat_minor": 5
}
