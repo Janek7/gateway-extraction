{
 "cells": [
  {
   "cell_type": "code",
   "execution_count": 1,
   "id": "2b16f3bf",
   "metadata": {},
   "outputs": [
    {
     "name": "stdout",
     "output_type": "stream",
     "text": [
      "C:\\Users\\janek\\Development\\Git\\master-thesis\n"
     ]
    }
   ],
   "source": [
    "# add parent dir to sys path for import of modules\n",
    "import os\n",
    "import sys\n",
    "\n",
    "# find recursively the project root dir\n",
    "parent_dir = str(os.getcwdb())\n",
    "while not os.path.exists(os.path.join(parent_dir, \"README.md\")):\n",
    "    parent_dir = os.path.abspath(os.path.join(parent_dir, os.pardir))\n",
    "sys.path.insert(0, parent_dir)"
   ]
  },
  {
   "cell_type": "code",
   "execution_count": 43,
   "id": "b04d044f",
   "metadata": {},
   "outputs": [],
   "source": [
    "import json\n",
    "import pandas as pd\n",
    "\n",
    "from utils import ROOT_DIR, load_pickle\n",
    "from PetReader import pet_reader"
   ]
  },
  {
   "cell_type": "code",
   "execution_count": 65,
   "id": "36a5c4f7",
   "metadata": {
    "scrolled": false
   },
   "outputs": [],
   "source": [
    "with open(os.path.join(ROOT_DIR, \"data/results/keywords_filtered/key_words_literature_tc_filtered_og_syn/filtering_XOR Gateways.json\"), \"r\") as file:\n",
    "    filtering_file = json.load(file)"
   ]
  },
  {
   "cell_type": "code",
   "execution_count": 71,
   "id": "f86316ce",
   "metadata": {
    "scrolled": false
   },
   "outputs": [
    {
     "name": "stdout",
     "output_type": "stream",
     "text": [
      "doc-2.2\n",
      "In case of any errors these should be corrected on the basis of a simple error list .\n",
      "5 ('In', 0, 'B-XOR Gateway')\n",
      "[5, ['In', 0, 'B-XOR Gateway'], 2, 'kept'] CORRECTLY_KEPT\n",
      "\n",
      "In case of any errors these should be corrected on the basis of a simple error list .\n",
      "5 ('case', 1, 'I-XOR Gateway')\n",
      "[5, ['case', 1, 'I-XOR Gateway'], 2, 'kept'] CORRECTLY_KEPT\n",
      "\n",
      "In case of any errors these should be corrected on the basis of a simple error list .\n",
      "5 ('of', 2, 'I-XOR Gateway')\n",
      "[5, ['of', 2, 'I-XOR Gateway'], 6, 'dropped'] WRONGLY_DROPPED\n",
      "\n",
      "In case the customer does not exist in the customer data base , a new customer object is being created which will remain the data object of interest during the rest of the process flow .\n",
      "7 ('In', 0, 'B-XOR Gateway')\n",
      "[7, ['In', 0, 'B-XOR Gateway'], 2, 'kept'] CORRECTLY_KEPT\n",
      "\n",
      "In case the customer does not exist in the customer data base , a new customer object is being created which will remain the data object of interest during the rest of the process flow .\n",
      "7 ('case', 1, 'I-XOR Gateway')\n",
      "[7, ['case', 1, 'I-XOR Gateway'], 2, 'kept'] CORRECTLY_KEPT\n",
      "\n",
      "In case of a negative response , i.e . the contract documents are not ( or incorrectly ) generated , the causing issues are being analyzed and resolved .\n",
      "11 ('In', 0, 'B-XOR Gateway')\n",
      "[11, ['In', 0, 'B-XOR Gateway'], 2, 'kept'] CORRECTLY_KEPT\n",
      "\n",
      "In case of a negative response , i.e . the contract documents are not ( or incorrectly ) generated , the causing issues are being analyzed and resolved .\n",
      "11 ('case', 1, 'I-XOR Gateway')\n",
      "[11, ['case', 1, 'I-XOR Gateway'], 2, 'kept'] CORRECTLY_KEPT\n",
      "\n",
      "In case of a negative response , i.e . the contract documents are not ( or incorrectly ) generated , the causing issues are being analyzed and resolved .\n",
      "11 ('of', 2, 'I-XOR Gateway')\n",
      "[11, ['of', 2, 'I-XOR Gateway'], 6, 'dropped'] WRONGLY_DROPPED\n",
      "\n",
      "In case of a negative response , i.e . the contract documents are not ( or incorrectly ) generated , the causing issues are being analyzed and resolved .\n",
      "11 ('or', 15, 'O')\n",
      "[11, ['or', 15, 'B-XOR Gateway'], 1, 'dropped'] CORRECTLY_DROPPED\n",
      "\n",
      "In case of a positive response a confirmation document is sent out to the customer stating that the switch-over to the new supplier can be executed .\n",
      "13 ('In', 0, 'B-XOR Gateway')\n",
      "[13, ['In', 0, 'B-XOR Gateway'], 2, 'kept'] CORRECTLY_KEPT\n",
      "\n",
      "In case of a positive response a confirmation document is sent out to the customer stating that the switch-over to the new supplier can be executed .\n",
      "13 ('case', 1, 'I-XOR Gateway')\n",
      "[13, ['case', 1, 'I-XOR Gateway'], 2, 'kept'] CORRECTLY_KEPT\n",
      "\n",
      "In case of a positive response a confirmation document is sent out to the customer stating that the switch-over to the new supplier can be executed .\n",
      "13 ('of', 2, 'I-XOR Gateway')\n",
      "[13, ['of', 2, 'I-XOR Gateway'], 6, 'dropped'] WRONGLY_DROPPED\n",
      "\n",
      "It puts the question whether the customer may be supplied by the selected supplier in the future .\n",
      "15 ('whether', 4, 'O')\n",
      "[15, ['whether', 4, 'B-XOR Gateway'], 6, 'dropped'] CORRECTLY_DROPPED\n",
      "\n",
      "If there are not any objections by the grid operator ( i.e . no supplier concurrence ) , customer service creates a CIS contract .\n",
      "19 ('If', 0, 'B-XOR Gateway')\n",
      "[19, ['If', 0, 'B-XOR Gateway'], 2, 'kept'] CORRECTLY_KEPT\n",
      "\n",
      "The customer then has the chance to check the contract details and based on this check may decide to either withdraw from the switch contract or confirm it .\n",
      "20 ('either', 19, 'B-XOR Gateway')\n",
      "[20, ['either', 19, 'B-XOR Gateway'], 7, 'dropped'] WRONGLY_DROPPED\n",
      "\n",
      "The customer then has the chance to check the contract details and based on this check may decide to either withdraw from the switch contract or confirm it .\n",
      "20 ('or', 25, 'B-XOR Gateway')\n",
      "[20, ['or', 25, 'B-XOR Gateway'], 4, 'dropped'] WRONGLY_DROPPED\n",
      "\n",
      "Depending on the customer's acceptance / rejection the process flow at customer service either ends ( in case of withdrawal ) or continues ( in case of a confirmation ) .\n",
      "21 ('either', 13, 'O')\n",
      "[21, ['either', 13, 'B-XOR Gateway'], 4, 'dropped'] CORRECTLY_DROPPED\n",
      "\n",
      "Depending on the customer's acceptance / rejection the process flow at customer service either ends ( in case of withdrawal ) or continues ( in case of a confirmation ) .\n",
      "21 ('in', 16, 'O')\n",
      "[21, ['in', 16, 'B-XOR Gateway'], 3, 'dropped'] CORRECTLY_DROPPED\n",
      "\n",
      "Depending on the customer's acceptance / rejection the process flow at customer service either ends ( in case of withdrawal ) or continues ( in case of a confirmation ) .\n",
      "21 ('case', 17, 'O')\n",
      "[21, ['case', 17, 'I-XOR Gateway'], 2, 'kept'] WRONGLY_KEPT\n",
      "\n",
      "Depending on the customer's acceptance / rejection the process flow at customer service either ends ( in case of withdrawal ) or continues ( in case of a confirmation ) .\n",
      "21 ('of', 18, 'O')\n",
      "[21, ['of', 18, 'I-XOR Gateway'], 3, 'dropped'] CORRECTLY_DROPPED\n",
      "\n",
      "Depending on the customer's acceptance / rejection the process flow at customer service either ends ( in case of withdrawal ) or continues ( in case of a confirmation ) .\n",
      "21 ('or', 21, 'O')\n",
      "[21, ['or', 21, 'B-XOR Gateway'], 4, 'dropped'] CORRECTLY_DROPPED\n",
      "\n",
      "Depending on the customer's acceptance / rejection the process flow at customer service either ends ( in case of withdrawal ) or continues ( in case of a confirmation ) .\n",
      "21 ('in', 24, 'O')\n",
      "[21, ['in', 24, 'B-XOR Gateway'], 2, 'kept'] WRONGLY_KEPT\n",
      "\n",
      "Depending on the customer's acceptance / rejection the process flow at customer service either ends ( in case of withdrawal ) or continues ( in case of a confirmation ) .\n",
      "21 ('case', 25, 'O')\n",
      "[21, ['case', 25, 'I-XOR Gateway'], 2, 'kept'] WRONGLY_KEPT\n",
      "\n",
      "Depending on the customer's acceptance / rejection the process flow at customer service either ends ( in case of withdrawal ) or continues ( in case of a confirmation ) .\n",
      "21 ('of', 26, 'O')\n",
      "[21, ['of', 26, 'I-XOR Gateway'], 3, 'dropped'] CORRECTLY_DROPPED\n",
      "\n",
      "An additional constraint is that the customer can only withdraw from the offered contract within 7 days after the 7th day the contract will be regarded as accepted and the process continues .\n",
      "22 ('only', 8, 'O')\n",
      "[22, ['only', 8, 'B-XOR Gateway'], 7, 'dropped'] CORRECTLY_DROPPED\n",
      "\n"
     ]
    }
   ],
   "source": [
    "KEPT = 'kept'\n",
    "CORRECTLY_KEPT = 'correctly_kept'\n",
    "WRONGLY_KEPT = 'wrongly_kept'\n",
    "DROPPED = 'dropped'\n",
    "CORRECTLY_DROPPED = 'correctly_dropped'\n",
    "WRONGLY_DROPPED = 'wrongly_dropped'\n",
    "\n",
    "statistics = {}\n",
    "\n",
    "for doc_name, filterings in filtering_file.items():\n",
    "    \n",
    "    if doc_name != 'doc-2.2':\n",
    "        continue\n",
    "    \n",
    "    print(doc_name)\n",
    "    doc_gold = pet_reader.relations_dataset.GetSentencesWithIdsAndNerTagLabels(pet_reader.get_document_number(doc_name))\n",
    "    \n",
    "    for sentence_idx, tokens in enumerate(doc_gold):\n",
    "        sentence_filterings = [f for f in filterings if f[0] == sentence_idx]\n",
    "        for f in sentence_filterings:\n",
    "            t = f[1][0].lower()\n",
    "            if t not in statistics:\n",
    "                statistics[t] = {KEPT: 0, CORRECTLY_KEPT: 0, WRONGLY_KEPT: 0, DROPPED: 0, CORRECTLY_DROPPED: 0, WRONGLY_DROPPED: 0}\n",
    "            print(' '.join([t[0] for t in tokens]))\n",
    "            # tuple in token\n",
    "            if tuple(f[1]) in tokens:\n",
    "                if f[3] == 'kept':\n",
    "                    statistics[t][KEPT] += 1\n",
    "                    statistics[t][CORRECTLY_KEPT] += 1\n",
    "                    print(sentence_idx, tokens[f[1][1]])\n",
    "                    print(f, \"CORRECTLY_KEPT\\n\")\n",
    "#                     if t == 'or':\n",
    "#                         print(sentence_idx, tokens)\n",
    "#                         print(f, \"CORRECTLY_KEPT\")\n",
    "                else:\n",
    "                    statistics[t][DROPPED] += 1\n",
    "                    statistics[t][WRONGLY_DROPPED] += 1\n",
    "                    print(sentence_idx, tokens[f[1][1]])\n",
    "                    print(f, \"WRONGLY_DROPPED\\n\")\n",
    "            # tuple not in token\n",
    "            else:\n",
    "                if f[3] == 'dropped':\n",
    "                    statistics[t][DROPPED] += 1\n",
    "                    statistics[t][CORRECTLY_DROPPED] += 1\n",
    "                    print(sentence_idx, tokens[f[1][1]])\n",
    "                    print(f, \"CORRECTLY_DROPPED\\n\")\n",
    "                else:\n",
    "                    statistics[t][KEPT] += 1\n",
    "                    statistics[t][WRONGLY_KEPT] += 1\n",
    "                    print(sentence_idx, tokens[f[1][1]])\n",
    "                    print(f, \"WRONGLY_KEPT\\n\")\n"
   ]
  },
  {
   "cell_type": "code",
   "execution_count": 63,
   "id": "db9684c0",
   "metadata": {},
   "outputs": [
    {
     "name": "stdout",
     "output_type": "stream",
     "text": [
      "{'kept': 5, 'correctly_kept': 1, 'wrongly_kept': 4, 'dropped': 59, 'correctly_dropped': 40, 'wrongly_dropped': 19}\n",
      "or {'kept': 5, 'correctly_kept': 1, 'wrongly_kept': 4, 'dropped': 59, 'correctly_dropped': 40, 'wrongly_dropped': 19, 'kept/dropped': '0.08/0.92'}\n"
     ]
    }
   ],
   "source": [
    "rows = []\n",
    "for keyword, stats in statistics.items():\n",
    "    print(stats)\n",
    "    kept_ratio = stats[KEPT] / (stats[KEPT] + stats[DROPPED])\n",
    "    dropped_ratio = stats[DROPPED] / (stats[KEPT] + stats[DROPPED])\n",
    "    stats[\"kept/dropped\"] = f\"{round(kept_ratio, 2)}/{round(dropped_ratio, 2)}\"\n",
    "    print(keyword, stats)\n",
    "    rows.append({**{\"word\": keyword}, **stats})"
   ]
  },
  {
   "cell_type": "code",
   "execution_count": 52,
   "id": "d5cddbba",
   "metadata": {},
   "outputs": [],
   "source": [
    "df = pd.DataFrame.from_dict(rows)\n",
    "df.head(10)\n",
    "df.to_excel(os.path.join(ROOT_DIR, \"data/paper_stats/token_cls/filtering_stats.xlsx\"), index=False)"
   ]
  }
 ],
 "metadata": {
  "kernelspec": {
   "display_name": "Python 3 (ipykernel)",
   "language": "python",
   "name": "python3"
  },
  "language_info": {
   "codemirror_mode": {
    "name": "ipython",
    "version": 3
   },
   "file_extension": ".py",
   "mimetype": "text/x-python",
   "name": "python",
   "nbconvert_exporter": "python",
   "pygments_lexer": "ipython3",
   "version": "3.8.13"
  }
 },
 "nbformat": 4,
 "nbformat_minor": 5
}
