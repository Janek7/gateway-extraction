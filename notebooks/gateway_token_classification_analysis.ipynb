{
 "cells": [
  {
   "cell_type": "code",
   "execution_count": 86,
   "id": "7798940e",
   "metadata": {},
   "outputs": [],
   "source": [
    "import json\n",
    "import os\n",
    "import copy\n",
    "import itertools\n",
    "import numpy as np\n",
    "import statistics as s"
   ]
  },
  {
   "cell_type": "markdown",
   "id": "8dee9ef9",
   "metadata": {},
   "source": [
    "## Read data"
   ]
  },
  {
   "cell_type": "code",
   "execution_count": 151,
   "id": "e98bc5df",
   "metadata": {},
   "outputs": [
    {
     "name": "stdout",
     "output_type": "stream",
     "text": [
      "C:\\Users\\janek\\Development\\Git\\master-thesis\\data\\logs_server\\three_seeds\\GatewayTokenClassifier.py-2022-11-01_191511-bs=8,ds=0.1,e=3,eh=False,f=5,l=all,olw=0.1,r=cv,s=43,sw=False\n"
     ]
    }
   ],
   "source": [
    "root_dir = 'C:\\\\Users\\\\janek\\\\Development\\\\Git\\\\master-thesis\\\\data\\\\logs_server\\\\three_seeds\\\\'\n",
    "run_subdirs = [x[0] for x in os.walk(root_dir)]\n",
    "print(run_subdirs[1])\n",
    "\n",
    "# create dict with param string as key and related cv_metrics dict as value\n",
    "runs = []\n",
    "for sub_dir in run_subdirs:\n",
    "    if sub_dir.endswith(\"False\"):\n",
    "        # cut generic parts & parse\n",
    "        param_list_short = sub_dir[147:]\n",
    "        param_list_short = param_list_short[:param_list_short.index(\"sw=False\") - 1]\n",
    "        param_list_short = param_list_short.replace(\",r=cv\", \"\")\n",
    "        # 0: label set; 1: other label weights; 2: seeds\n",
    "        param_tuple = [kv.split(\"=\")[1] for kv in param_list_short.split(\",\")]\n",
    "        # read cv_metrics.json\n",
    "        with open(os.path.join(sub_dir, \"cv_metrics.json\"), \"r\") as file:\n",
    "            cv_metrics = json.load(file)\n",
    "            for key, value in cv_metrics.items():\n",
    "                if isinstance(value, float):\n",
    "                    cv_metrics[key] = round(value, 4)\n",
    "                else:\n",
    "                    cv_metrics[key] = [round(x, 4) for x in value]\n",
    "        runs.append((param_tuple, cv_metrics))\n"
   ]
  },
  {
   "cell_type": "code",
   "execution_count": 152,
   "id": "c9cf5aa2",
   "metadata": {
    "collapsed": true
   },
   "outputs": [
    {
     "name": "stdout",
     "output_type": "stream",
     "text": [
      "['all', '0.1', '43'] {'avg_loss': 0.1426, 'avg_xor_precision': 0.273, 'avg_xor_recall': 0.5678, 'avg_xor_f1': 0.3071, 'avg_and_recall': 0.003, 'avg_and_precision': 0.0012, 'avg_and_f1': 0.0017, 'avg_overall_accuracy': 0.465, 'loss': [0.2007, 0.1394, 0.1613, 0.094, 0.1174], 'xor_precision': [0.0411, 0.1376, 0.2765, 0.4426, 0.4669], 'xor_recall': [0.6364, 0.4227, 0.4524, 0.6273, 0.7002], 'xor_f1': [0.0746, 0.1951, 0.296, 0.4502, 0.5196], 'and_recall': [0.0152, 0.0, 0.0, 0.0, 0.0], 'and_precision': [0.0061, 0.0, 0.0, 0.0, 0.0], 'and_f1': [0.0087, 0.0, 0.0, 0.0, 0.0], 'overall_accuracy': [0.3349, 0.4901, 0.4398, 0.5272, 0.5331]}\n",
      "['all', '0.2', '43'] {'avg_loss': 0.2657, 'avg_xor_precision': 0.2028, 'avg_xor_recall': 0.5333, 'avg_xor_f1': 0.2499, 'avg_and_recall': 0.0, 'avg_and_precision': 0.0, 'avg_and_f1': 0.0, 'avg_overall_accuracy': 0.4395, 'loss': [0.365, 0.2608, 0.3346, 0.2303, 0.1375], 'xor_precision': [0.1253, 0.4061, 0.0765, 0.2075, 0.1985], 'xor_recall': [0.4091, 0.4227, 0.5498, 0.6152, 0.6699], 'xor_f1': [0.1758, 0.3921, 0.126, 0.269, 0.2863], 'and_recall': [0.0, 0.0, 0.0, 0.0, 0.0], 'and_precision': [0.0, 0.0, 0.0, 0.0, 0.0], 'and_f1': [0.0, 0.0, 0.0, 0.0, 0.0], 'overall_accuracy': [0.4306, 0.5046, 0.4662, 0.4597, 0.3361]}\n",
      "['all', '0.4', '43'] {'avg_loss': 0.4162, 'avg_xor_precision': 0.3603, 'avg_xor_recall': 0.2566, 'avg_xor_f1': 0.2679, 'avg_and_recall': 0.0, 'avg_and_precision': 0.0, 'avg_and_f1': 0.0, 'avg_overall_accuracy': 0.517, 'loss': [0.6181, 0.3427, 0.3361, 0.3471, 0.437], 'xor_precision': [0.1818, 0.1364, 0.1818, 0.6061, 0.6955], 'xor_recall': [0.1591, 0.0682, 0.0584, 0.3919, 0.6055], 'xor_f1': [0.1667, 0.0818, 0.0833, 0.4273, 0.5805], 'and_recall': [0.0, 0.0, 0.0, 0.0, 0.0], 'and_precision': [0.0, 0.0, 0.0, 0.0, 0.0], 'and_f1': [0.0, 0.0, 0.0, 0.0, 0.0], 'overall_accuracy': [0.4479, 0.4335, 0.5152, 0.5946, 0.5937]}\n",
      "['all', '0.5', '43'] {'avg_loss': 0.5301, 'avg_xor_precision': 0.3175, 'avg_xor_recall': 0.2494, 'avg_xor_f1': 0.2382, 'avg_and_recall': 0.0, 'avg_and_precision': 0.0, 'avg_and_f1': 0.0, 'avg_overall_accuracy': 0.5035, 'loss': [0.7764, 0.4926, 0.42, 0.4136, 0.5479], 'xor_precision': [0.1919, 0.1818, 0.0909, 0.4545, 0.6682], 'xor_recall': [0.3409, 0.0864, 0.013, 0.1859, 0.6207], 'xor_f1': [0.2322, 0.1061, 0.0227, 0.2368, 0.5933], 'and_recall': [0.0, 0.0, 0.0, 0.0, 0.0], 'and_precision': [0.0, 0.0, 0.0, 0.0, 0.0], 'and_f1': [0.0, 0.0, 0.0, 0.0, 0.0], 'overall_accuracy': [0.4278, 0.4634, 0.5177, 0.5195, 0.589]}\n",
      "['all', '0.75', '43'] {'avg_loss': 0.8444, 'avg_xor_precision': 0.2485, 'avg_xor_recall': 0.1722, 'avg_xor_f1': 0.1787, 'avg_and_recall': 0.0, 'avg_and_precision': 0.0, 'avg_and_f1': 0.0, 'avg_overall_accuracy': 0.5107, 'loss': [1.2875, 0.8699, 0.5842, 0.549, 0.9316], 'xor_precision': [0.303, 0.0909, 0.0, 0.1818, 0.6667], 'xor_recall': [0.25, 0.0182, 0.0, 0.101, 0.4919], 'xor_f1': [0.2519, 0.0303, 0.0, 0.1091, 0.502], 'and_recall': [0.0, 0.0, 0.0, 0.0, 0.0], 'and_precision': [0.0, 0.0, 0.0, 0.0, 0.0], 'and_f1': [0.0, 0.0, 0.0, 0.0, 0.0], 'overall_accuracy': [0.4361, 0.4548, 0.4919, 0.5798, 0.5907]}\n",
      "['all', '1.0', '43'] {'avg_loss': 0.9159, 'avg_xor_precision': 0.2485, 'avg_xor_recall': 0.1433, 'avg_xor_f1': 0.1676, 'avg_and_recall': 0.0, 'avg_and_precision': 0.0, 'avg_and_f1': 0.0, 'avg_overall_accuracy': 0.4835, 'loss': [1.3588, 0.8042, 0.7995, 0.7002, 0.9166], 'xor_precision': [0.2424, 0.0, 0.0, 0.4545, 0.5455], 'xor_recall': [0.1591, 0.0, 0.0, 0.198, 0.3593], 'xor_f1': [0.1792, 0.0, 0.0, 0.2424, 0.4162], 'and_recall': [0.0, 0.0, 0.0, 0.0, 0.0], 'and_precision': [0.0, 0.0, 0.0, 0.0, 0.0], 'and_f1': [0.0, 0.0, 0.0, 0.0, 0.0], 'overall_accuracy': [0.4482, 0.4092, 0.4785, 0.5283, 0.5531]}\n",
      "['filtered', '0.1', '43'] {'avg_loss': 0.0353, 'avg_xor_precision': 0.2791, 'avg_xor_recall': 0.4494, 'avg_xor_f1': 0.2893, 'avg_and_recall': 0.0, 'avg_and_precision': 0.0, 'avg_and_f1': 0.0, 'avg_overall_accuracy': 0.8836, 'loss': [0.0694, 0.0109, 0.0372, 0.0249, 0.0339], 'xor_precision': [0.0, 0.1053, 0.3899, 0.3864, 0.5139], 'xor_recall': [0.0, 0.4773, 0.7684, 0.2859, 0.7154], 'xor_f1': [0.0, 0.1641, 0.4483, 0.2685, 0.5658], 'and_recall': [0.0, 0.0, 0.0, 0.0, 0.0], 'and_precision': [0.0, 0.0, 0.0, 0.0, 0.0], 'and_f1': [0.0, 0.0, 0.0, 0.0, 0.0], 'overall_accuracy': [0.8275, 0.897, 0.9173, 0.8547, 0.9214]}\n",
      "['filtered', '0.2', '43'] {'avg_loss': 0.0576, 'avg_xor_precision': 0.0685, 'avg_xor_recall': 0.0222, 'avg_xor_f1': 0.0314, 'avg_and_recall': 0.0, 'avg_and_precision': 0.0, 'avg_and_f1': 0.0, 'avg_overall_accuracy': 0.872, 'loss': [0.093, 0.0398, 0.0858, 0.0342, 0.0354], 'xor_precision': [0.0, 0.1364, 0.0244, 0.0909, 0.0909], 'xor_recall': [0.0, 0.0364, 0.026, 0.0182, 0.0303], 'xor_f1': [0.0, 0.0563, 0.0251, 0.0303, 0.0455], 'and_recall': [0.0, 0.0, 0.0, 0.0, 0.0], 'and_precision': [0.0, 0.0, 0.0, 0.0, 0.0], 'and_f1': [0.0, 0.0, 0.0, 0.0, 0.0], 'overall_accuracy': [0.9075, 0.8949, 0.7656, 0.8954, 0.8964]}\n",
      "['filtered', '0.3', '43'] {'avg_loss': 0.0956, 'avg_xor_precision': 0.0501, 'avg_xor_recall': 0.0463, 'avg_xor_f1': 0.0275, 'avg_and_recall': 0.0, 'avg_and_precision': 0.0, 'avg_and_f1': 0.0, 'avg_overall_accuracy': 0.8215, 'loss': [0.0924, 0.0516, 0.1304, 0.121, 0.0826], 'xor_precision': [0.0, 0.1818, 0.0175, 0.0282, 0.0227], 'xor_recall': [0.0, 0.0364, 0.1169, 0.0667, 0.0114], 'xor_f1': [0.0, 0.0606, 0.026, 0.0356, 0.0152], 'and_recall': [0.0, 0.0, 0.0, 0.0, 0.0], 'and_precision': [0.0, 0.0, 0.0, 0.0, 0.0], 'and_f1': [0.0, 0.0, 0.0, 0.0, 0.0], 'overall_accuracy': [0.9364, 0.9179, 0.6053, 0.7419, 0.9058]}\n",
      "['filtered', '0.4', '43'] {'avg_loss': 0.0737, 'avg_xor_precision': 0.0924, 'avg_xor_recall': 0.054, 'avg_xor_f1': 0.0476, 'avg_and_recall': 0.0, 'avg_and_precision': 0.0, 'avg_and_f1': 0.0, 'avg_overall_accuracy': 0.9346, 'loss': [0.0939, 0.0411, 0.1363, 0.0396, 0.0576], 'xor_precision': [0.0, 0.0909, 0.1591, 0.0, 0.2121], 'xor_recall': [0.0, 0.0182, 0.1948, 0.0, 0.0568], 'xor_f1': [0.0, 0.0303, 0.1197, 0.0, 0.088], 'and_recall': [0.0, 0.0, 0.0, 0.0, 0.0], 'and_precision': [0.0, 0.0, 0.0, 0.0, 0.0], 'and_f1': [0.0, 0.0, 0.0, 0.0, 0.0], 'overall_accuracy': [0.9515, 0.9477, 0.8853, 0.9485, 0.9399]}\n",
      "['filtered', '0.5', '43'] {'avg_loss': 0.1131, 'avg_xor_precision': 0.0508, 'avg_xor_recall': 0.0525, 'avg_xor_f1': 0.0262, 'avg_and_recall': 0.0, 'avg_and_precision': 0.0, 'avg_and_f1': 0.0, 'avg_overall_accuracy': 0.8972, 'loss': [0.095, 0.0623, 0.209, 0.1479, 0.0511], 'xor_precision': [0.0, 0.0909, 0.0266, 0.1364, 0.0], 'xor_recall': [0.0, 0.0182, 0.2078, 0.0364, 0.0], 'xor_f1': [0.0, 0.0303, 0.0446, 0.0563, 0.0], 'and_recall': [0.0, 0.0, 0.0, 0.0, 0.0], 'and_precision': [0.0, 0.0, 0.0, 0.0, 0.0], 'and_f1': [0.0, 0.0, 0.0, 0.0, 0.0], 'overall_accuracy': [0.9608, 0.9553, 0.6936, 0.9243, 0.9521]}\n",
      "['filtered', '0.75', '43'] {'avg_loss': 0.1532, 'avg_xor_precision': 0.0468, 'avg_xor_recall': 0.0462, 'avg_xor_f1': 0.0264, 'avg_and_recall': 0.0, 'avg_and_precision': 0.0, 'avg_and_f1': 0.0, 'avg_overall_accuracy': 0.9337, 'loss': [0.0945, 0.0927, 0.3093, 0.2046, 0.065], 'xor_precision': [0.0, 0.0909, 0.0519, 0.0909, 0.0], 'xor_recall': [0.0, 0.0182, 0.1948, 0.0182, 0.0], 'xor_f1': [0.0, 0.0303, 0.0716, 0.0303, 0.0], 'and_recall': [0.0, 0.0, 0.0, 0.0, 0.0], 'and_precision': [0.0, 0.0, 0.0, 0.0, 0.0], 'and_f1': [0.0, 0.0, 0.0, 0.0, 0.0], 'overall_accuracy': [0.9735, 0.9705, 0.806, 0.9501, 0.9684]}\n",
      "['filtered', '1.0', '43'] {'avg_loss': 0.174, 'avg_xor_precision': 0.0216, 'avg_xor_recall': 0.0469, 'avg_xor_f1': 0.023, 'avg_and_recall': 0.0, 'avg_and_precision': 0.0, 'avg_and_f1': 0.0, 'avg_overall_accuracy': 0.9584, 'loss': [0.0946, 0.1024, 0.3714, 0.0769, 0.2246], 'xor_precision': [0.0, 0.0, 0.0593, 0.0, 0.0485], 'xor_recall': [0.0, 0.0, 0.2078, 0.0, 0.0265], 'xor_f1': [0.0, 0.0, 0.0807, 0.0, 0.0342], 'and_recall': [0.0, 0.0, 0.0, 0.0, 0.0], 'and_precision': [0.0, 0.0, 0.0, 0.0, 0.0], 'and_f1': [0.0, 0.0, 0.0, 0.0, 0.0], 'overall_accuracy': [0.98, 0.9749, 0.9076, 0.9759, 0.9535]}\n",
      "['all', '0.1', '44'] {'avg_loss': 0.1453, 'avg_xor_precision': 0.2562, 'avg_xor_recall': 0.6086, 'avg_xor_f1': 0.3135, 'avg_and_recall': 0.003, 'avg_and_precision': 0.0013, 'avg_and_f1': 0.0018, 'avg_overall_accuracy': 0.4819, 'loss': [0.1971, 0.1374, 0.1584, 0.1108, 0.123], 'xor_precision': [0.0447, 0.1394, 0.2477, 0.4064, 0.4429], 'xor_recall': [0.6364, 0.4864, 0.5108, 0.6828, 0.7267], 'xor_f1': [0.0808, 0.2062, 0.299, 0.4575, 0.5242], 'and_recall': [0.0152, 0.0, 0.0, 0.0, 0.0], 'and_precision': [0.0065, 0.0, 0.0, 0.0, 0.0], 'and_f1': [0.0091, 0.0, 0.0, 0.0, 0.0], 'overall_accuracy': [0.3497, 0.4663, 0.475, 0.5426, 0.5759]}\n",
      "['all', '0.2', '44'] {'avg_loss': 0.2628, 'avg_xor_precision': 0.2413, 'avg_xor_recall': 0.5106, 'avg_xor_f1': 0.2691, 'avg_and_recall': 0.0045, 'avg_and_precision': 0.0002, 'avg_and_f1': 0.0004, 'avg_overall_accuracy': 0.405, 'loss': [0.3647, 0.2747, 0.3528, 0.1814, 0.1406], 'xor_precision': [0.1253, 0.2833, 0.1309, 0.1002, 0.5667], 'xor_recall': [0.4091, 0.4227, 0.5346, 0.6152, 0.5714], 'xor_f1': [0.1758, 0.3172, 0.1901, 0.1626, 0.5], 'and_recall': [0.0, 0.0, 0.0, 0.0, 0.0227], 'and_precision': [0.0, 0.0, 0.0, 0.0, 0.0011], 'and_f1': [0.0, 0.0, 0.0, 0.0, 0.0021], 'overall_accuracy': [0.4306, 0.4278, 0.4657, 0.4234, 0.2774]}\n",
      "['all', '0.3', '44'] {'avg_loss': 0.4159, 'avg_xor_precision': 0.2397, 'avg_xor_recall': 0.3543, 'avg_xor_f1': 0.2438, 'avg_and_recall': 0.0, 'avg_and_precision': 0.0, 'avg_and_f1': 0.0, 'avg_overall_accuracy': 0.4755, 'loss': [0.4947, 0.4042, 0.4548, 0.4047, 0.3211], 'xor_precision': [0.0909, 0.0606, 0.3561, 0.4106, 0.2802], 'xor_recall': [0.1591, 0.0364, 0.3831, 0.5384, 0.6548], 'xor_f1': [0.097, 0.0455, 0.329, 0.3876, 0.3597], 'and_recall': [0.0, 0.0, 0.0, 0.0, 0.0], 'and_precision': [0.0, 0.0, 0.0, 0.0, 0.0], 'and_f1': [0.0, 0.0, 0.0, 0.0, 0.0], 'overall_accuracy': [0.4266, 0.4478, 0.4982, 0.5294, 0.4757]}\n",
      "['all', '0.4', '44'] {'avg_loss': 0.418, 'avg_xor_precision': 0.38, 'avg_xor_recall': 0.2692, 'avg_xor_f1': 0.2844, 'avg_and_recall': 0.0, 'avg_and_precision': 0.0, 'avg_and_f1': 0.0, 'avg_overall_accuracy': 0.5207, 'loss': [0.6342, 0.3696, 0.3545, 0.311, 0.4205], 'xor_precision': [0.1273, 0.1364, 0.2727, 0.6212, 0.7424], 'xor_recall': [0.1591, 0.1, 0.1494, 0.3737, 0.5639], 'xor_f1': [0.1313, 0.1136, 0.1742, 0.4141, 0.5889], 'and_recall': [0.0, 0.0, 0.0, 0.0, 0.0], 'and_precision': [0.0, 0.0, 0.0, 0.0, 0.0], 'and_f1': [0.0, 0.0, 0.0, 0.0, 0.0], 'overall_accuracy': [0.4479, 0.4798, 0.5307, 0.572, 0.5729]}\n",
      "['all', '0.5', '44'] {'avg_loss': 0.5545, 'avg_xor_precision': 0.3391, 'avg_xor_recall': 0.2723, 'avg_xor_f1': 0.2655, 'avg_and_recall': 0.0, 'avg_and_precision': 0.0, 'avg_and_f1': 0.0, 'avg_overall_accuracy': 0.5111, 'loss': [0.7958, 0.4348, 0.4309, 0.4468, 0.6643], 'xor_precision': [0.2184, 0.1364, 0.0909, 0.5455, 0.7045], 'xor_recall': [0.3182, 0.0682, 0.026, 0.3434, 0.6055], 'xor_f1': [0.2387, 0.0818, 0.0404, 0.3777, 0.5891], 'and_recall': [0.0, 0.0, 0.0, 0.0, 0.0], 'and_precision': [0.0, 0.0, 0.0, 0.0, 0.0], 'and_f1': [0.0, 0.0, 0.0, 0.0, 0.0], 'overall_accuracy': [0.4431, 0.455, 0.508, 0.5792, 0.5703]}\n",
      "['all', '0.75', '44'] {'avg_loss': 0.7681, 'avg_xor_precision': 0.2924, 'avg_xor_recall': 0.1701, 'avg_xor_f1': 0.1931, 'avg_and_recall': 0.0, 'avg_and_precision': 0.0, 'avg_and_f1': 0.0, 'avg_overall_accuracy': 0.5279, 'loss': [1.3056, 0.6436, 0.5915, 0.5342, 0.7658], 'xor_precision': [0.1212, 0.0, 0.0909, 0.5455, 0.7045], 'xor_recall': [0.1136, 0.0, 0.013, 0.2131, 0.5108], 'xor_f1': [0.1169, 0.0, 0.0227, 0.2758, 0.5504], 'and_recall': [0.0, 0.0, 0.0, 0.0, 0.0], 'and_precision': [0.0, 0.0, 0.0, 0.0, 0.0], 'and_f1': [0.0, 0.0, 0.0, 0.0, 0.0], 'overall_accuracy': [0.445, 0.5032, 0.5123, 0.5914, 0.5878]}\n",
      "['all', '1.0', '44'] {'avg_loss': 0.9541, 'avg_xor_precision': 0.2347, 'avg_xor_recall': 0.1902, 'avg_xor_f1': 0.171, 'avg_and_recall': 0.0, 'avg_and_precision': 0.0, 'avg_and_f1': 0.0, 'avg_overall_accuracy': 0.5259, 'loss': [1.3832, 0.7523, 0.7619, 0.8209, 1.0521], 'xor_precision': [0.2424, 0.0, 0.0, 0.4545, 0.4767], 'xor_recall': [0.1591, 0.0, 0.0, 0.198, 0.5942], 'xor_f1': [0.1792, 0.0, 0.0, 0.2424, 0.4331], 'and_recall': [0.0, 0.0, 0.0, 0.0, 0.0], 'and_precision': [0.0, 0.0, 0.0, 0.0, 0.0], 'and_f1': [0.0, 0.0, 0.0, 0.0, 0.0], 'overall_accuracy': [0.4538, 0.4449, 0.5477, 0.6084, 0.5746]}\n",
      "['filtered', '0.1', '44'] {'avg_loss': 0.0341, 'avg_xor_precision': 0.2299, 'avg_xor_recall': 0.3031, 'avg_xor_f1': 0.19, 'avg_and_recall': 0.0, 'avg_and_precision': 0.0, 'avg_and_f1': 0.0, 'avg_overall_accuracy': 0.8672, 'loss': [0.0675, 0.0106, 0.0373, 0.0226, 0.0324], 'xor_precision': [0.0, 0.1159, 0.3365, 0.4091, 0.2879], 'xor_recall': [0.0, 0.4955, 0.7684, 0.1646, 0.0871], 'xor_f1': [0.0, 0.1784, 0.4161, 0.2256, 0.1299], 'and_recall': [0.0, 0.0, 0.0, 0.0, 0.0], 'and_precision': [0.0, 0.0, 0.0, 0.0, 0.0], 'and_f1': [0.0, 0.0, 0.0, 0.0, 0.0], 'overall_accuracy': [0.8275, 0.9049, 0.9168, 0.8563, 0.8303]}\n",
      "['filtered', '0.2', '44'] {'avg_loss': 0.073, 'avg_xor_precision': 0.0435, 'avg_xor_recall': 0.0194, 'avg_xor_f1': 0.0247, 'avg_and_recall': 0.0, 'avg_and_precision': 0.0, 'avg_and_f1': 0.0, 'avg_overall_accuracy': 0.7888, 'loss': [0.093, 0.0388, 0.0902, 0.0807, 0.0624], 'xor_precision': [0.0, 0.1364, 0.0101, 0.0485, 0.0227], 'xor_recall': [0.0, 0.0364, 0.013, 0.0364, 0.0114], 'xor_f1': [0.0, 0.0563, 0.0114, 0.0409, 0.0152], 'and_recall': [0.0, 0.0, 0.0, 0.0, 0.0], 'and_precision': [0.0, 0.0, 0.0, 0.0, 0.0], 'and_f1': [0.0, 0.0, 0.0, 0.0, 0.0], 'overall_accuracy': [0.9075, 0.8974, 0.5097, 0.7545, 0.875]}\n",
      "['filtered', '0.3', '44'] {'avg_loss': 0.0858, 'avg_xor_precision': 0.0216, 'avg_xor_recall': 0.027, 'avg_xor_f1': 0.0113, 'avg_and_recall': 0.0, 'avg_and_precision': 0.0, 'avg_and_f1': 0.0, 'avg_overall_accuracy': 0.856, 'loss': [0.0925, 0.0461, 0.1299, 0.1155, 0.0452], 'xor_precision': [0.0, 0.0909, 0.0172, 0.0, 0.0], 'xor_recall': [0.0, 0.0182, 0.1169, 0.0, 0.0], 'xor_f1': [0.0, 0.0303, 0.0261, 0.0, 0.0], 'and_recall': [0.0, 0.0, 0.0, 0.0, 0.0], 'and_precision': [0.0, 0.0, 0.0, 0.0, 0.0], 'and_f1': [0.0, 0.0, 0.0, 0.0, 0.0], 'overall_accuracy': [0.9364, 0.9247, 0.6425, 0.8503, 0.926]}\n",
      "['filtered', '0.4', '44'] {'avg_loss': 0.0821, 'avg_xor_precision': 0.079, 'avg_xor_recall': 0.0687, 'avg_xor_f1': 0.0511, 'avg_and_recall': 0.0, 'avg_and_precision': 0.0, 'avg_and_f1': 0.0, 'avg_overall_accuracy': 0.9034, 'loss': [0.0939, 0.0421, 0.163, 0.0419, 0.0696], 'xor_precision': [0.0, 0.0909, 0.0435, 0.0, 0.2606], 'xor_recall': [0.0, 0.0182, 0.2078, 0.0, 0.1174], 'xor_f1': [0.0, 0.0303, 0.0645, 0.0, 0.1605], 'and_recall': [0.0, 0.0, 0.0, 0.0, 0.0], 'and_precision': [0.0, 0.0, 0.0, 0.0, 0.0], 'and_f1': [0.0, 0.0, 0.0, 0.0, 0.0], 'overall_accuracy': [0.9515, 0.947, 0.7486, 0.9385, 0.9313]}\n",
      "['filtered', '0.5', '44'] {'avg_loss': 0.1213, 'avg_xor_precision': 0.0362, 'avg_xor_recall': 0.0505, 'avg_xor_f1': 0.0256, 'avg_and_recall': 0.0, 'avg_and_precision': 0.0, 'avg_and_f1': 0.0, 'avg_overall_accuracy': 0.9152, 'loss': [0.0949, 0.0663, 0.206, 0.1347, 0.1045], 'xor_precision': [0.0, 0.0909, 0.0417, 0.0, 0.0485], 'xor_recall': [0.0, 0.0182, 0.2078, 0.0, 0.0265], 'xor_f1': [0.0, 0.0303, 0.0634, 0.0, 0.0342], 'and_recall': [0.0, 0.0, 0.0, 0.0, 0.0], 'and_precision': [0.0, 0.0, 0.0, 0.0, 0.0], 'and_f1': [0.0, 0.0, 0.0, 0.0, 0.0], 'overall_accuracy': [0.9608, 0.9553, 0.7904, 0.9314, 0.9381]}\n",
      "['filtered', '0.75', '44'] {'avg_loss': 0.1634, 'avg_xor_precision': 0.0298, 'avg_xor_recall': 0.0475, 'avg_xor_f1': 0.0202, 'avg_and_recall': 0.0, 'avg_and_precision': 0.0, 'avg_and_f1': 0.0, 'avg_overall_accuracy': 0.9178, 'loss': [0.0945, 0.0927, 0.3108, 0.1397, 0.1791], 'xor_precision': [0.0, 0.0909, 0.0352, 0.0, 0.0227], 'xor_recall': [0.0, 0.0182, 0.2078, 0.0, 0.0114], 'xor_f1': [0.0, 0.0303, 0.0556, 0.0, 0.0152], 'and_recall': [0.0, 0.0, 0.0, 0.0, 0.0], 'and_precision': [0.0, 0.0, 0.0, 0.0, 0.0], 'and_f1': [0.0, 0.0, 0.0, 0.0, 0.0], 'overall_accuracy': [0.9735, 0.9705, 0.7317, 0.9601, 0.9532]}\n",
      "['filtered', '1.0', '44'] {'avg_loss': 0.1555, 'avg_xor_precision': 0.011, 'avg_xor_recall': 0.0416, 'avg_xor_f1': 0.0154, 'avg_and_recall': 0.0, 'avg_and_precision': 0.0, 'avg_and_f1': 0.0, 'avg_overall_accuracy': 0.9615, 'loss': [0.0946, 0.1008, 0.3779, 0.0711, 0.133], 'xor_precision': [0.0, 0.0, 0.0549, 0.0, 0.0], 'xor_recall': [0.0, 0.0, 0.2078, 0.0, 0.0], 'xor_f1': [0.0, 0.0, 0.0772, 0.0, 0.0], 'and_recall': [0.0, 0.0, 0.0, 0.0, 0.0], 'and_precision': [0.0, 0.0, 0.0, 0.0, 0.0], 'and_f1': [0.0, 0.0, 0.0, 0.0, 0.0], 'overall_accuracy': [0.98, 0.9749, 0.9064, 0.9771, 0.969]}\n",
      "['all', '0.1', '45'] {'avg_loss': 0.1496, 'avg_xor_precision': 0.2058, 'avg_xor_recall': 0.5972, 'avg_xor_f1': 0.2465, 'avg_and_recall': 0.003, 'avg_and_precision': 0.0009, 'avg_and_f1': 0.0014, 'avg_overall_accuracy': 0.4425, 'loss': [0.2085, 0.1344, 0.1415, 0.1183, 0.1454], 'xor_precision': [0.0374, 0.0708, 0.1229, 0.2565, 0.5416], 'xor_recall': [0.6364, 0.55, 0.4394, 0.6828, 0.6775], 'xor_f1': [0.0685, 0.1221, 0.1779, 0.3287, 0.5352], 'and_recall': [0.0152, 0.0, 0.0, 0.0, 0.0], 'and_precision': [0.0045, 0.0, 0.0, 0.0, 0.0], 'and_f1': [0.007, 0.0, 0.0, 0.0, 0.0], 'overall_accuracy': [0.318, 0.442, 0.4496, 0.5092, 0.4938]}\n",
      "['all', '0.2', '45'] {'avg_loss': 0.3113, 'avg_xor_precision': 0.3364, 'avg_xor_recall': 0.4916, 'avg_xor_f1': 0.3437, 'avg_and_recall': 0.0, 'avg_and_precision': 0.0, 'avg_and_f1': 0.0, 'avg_overall_accuracy': 0.4721, 'loss': [0.3645, 0.2752, 0.333, 0.3358, 0.2479], 'xor_precision': [0.1282, 0.4379, 0.2217, 0.4684, 0.4261], 'xor_recall': [0.4091, 0.4864, 0.4913, 0.4505, 0.6207], 'xor_f1': [0.1793, 0.429, 0.2735, 0.3942, 0.4426], 'and_recall': [0.0, 0.0, 0.0, 0.0, 0.0], 'and_precision': [0.0, 0.0, 0.0, 0.0, 0.0], 'and_f1': [0.0, 0.0, 0.0, 0.0, 0.0], 'overall_accuracy': [0.4318, 0.5194, 0.47, 0.4413, 0.4984]}\n",
      "['all', '0.3', '45'] {'avg_loss': 0.4181, 'avg_xor_precision': 0.2729, 'avg_xor_recall': 0.4024, 'avg_xor_f1': 0.273, 'avg_and_recall': 0.0, 'avg_and_precision': 0.0, 'avg_and_f1': 0.0, 'avg_overall_accuracy': 0.4598, 'loss': [0.4961, 0.4027, 0.4694, 0.4349, 0.2872], 'xor_precision': [0.0909, 0.1979, 0.4394, 0.4106, 0.2257], 'xor_recall': [0.1591, 0.3818, 0.3009, 0.5384, 0.632], 'xor_f1': [0.097, 0.2521, 0.3106, 0.4032, 0.3021], 'and_recall': [0.0, 0.0, 0.0, 0.0, 0.0], 'and_precision': [0.0, 0.0, 0.0, 0.0, 0.0], 'and_f1': [0.0, 0.0, 0.0, 0.0, 0.0], 'overall_accuracy': [0.4243, 0.4493, 0.4778, 0.5127, 0.435]}\n",
      "['all', '0.4', '45'] {'avg_loss': 0.3941, 'avg_xor_precision': 0.3791, 'avg_xor_recall': 0.2706, 'avg_xor_f1': 0.2825, 'avg_and_recall': 0.0, 'avg_and_precision': 0.0, 'avg_and_f1': 0.0, 'avg_overall_accuracy': 0.5134, 'loss': [0.618, 0.3301, 0.3337, 0.3074, 0.3812], 'xor_precision': [0.1364, 0.1364, 0.2727, 0.6818, 0.6682], 'xor_recall': [0.1591, 0.0682, 0.1494, 0.3556, 0.6207], 'xor_f1': [0.1364, 0.0818, 0.1742, 0.4318, 0.5885], 'and_recall': [0.0, 0.0, 0.0, 0.0, 0.0], 'and_precision': [0.0, 0.0, 0.0, 0.0, 0.0], 'and_f1': [0.0, 0.0, 0.0, 0.0, 0.0], 'overall_accuracy': [0.4461, 0.4547, 0.5144, 0.5694, 0.5824]}\n",
      "['all', '0.5', '45'] {'avg_loss': 0.5394, 'avg_xor_precision': 0.393, 'avg_xor_recall': 0.263, 'avg_xor_f1': 0.2764, 'avg_and_recall': 0.0, 'avg_and_precision': 0.0, 'avg_and_f1': 0.0, 'avg_overall_accuracy': 0.5007, 'loss': [0.7692, 0.4544, 0.4873, 0.4296, 0.5567], 'xor_precision': [0.1922, 0.0909, 0.2727, 0.5909, 0.8182], 'xor_recall': [0.3409, 0.0227, 0.1494, 0.3253, 0.4767], 'xor_f1': [0.232, 0.0364, 0.1742, 0.3864, 0.5532], 'and_recall': [0.0, 0.0, 0.0, 0.0, 0.0], 'and_precision': [0.0, 0.0, 0.0, 0.0, 0.0], 'and_f1': [0.0, 0.0, 0.0, 0.0, 0.0], 'overall_accuracy': [0.4406, 0.5029, 0.4658, 0.5816, 0.5126]}\n",
      "['all', '0.75', '45'] {'avg_loss': 0.7384, 'avg_xor_precision': 0.0818, 'avg_xor_recall': 0.0541, 'avg_xor_f1': 0.0591, 'avg_and_recall': 0.0, 'avg_and_precision': 0.0, 'avg_and_f1': 0.0, 'avg_overall_accuracy': 0.4679, 'loss': [1.2934, 0.7277, 0.599, 0.4332, 0.6388], 'xor_precision': [0.1364, 0.0, 0.0909, 0.0, 0.1818], 'xor_recall': [0.1364, 0.0, 0.013, 0.0, 0.1212], 'xor_f1': [0.1364, 0.0, 0.0227, 0.0, 0.1364], 'and_recall': [0.0, 0.0, 0.0, 0.0, 0.0], 'and_precision': [0.0, 0.0, 0.0, 0.0, 0.0], 'and_f1': [0.0, 0.0, 0.0, 0.0, 0.0], 'overall_accuracy': [0.4427, 0.4336, 0.4632, 0.4711, 0.5287]}\n",
      "['all', '1.0', '45'] {'avg_loss': 0.9851, 'avg_xor_precision': 0.1621, 'avg_xor_recall': 0.1461, 'avg_xor_f1': 0.1413, 'avg_and_recall': 0.0, 'avg_and_precision': 0.0, 'avg_and_f1': 0.0, 'avg_overall_accuracy': 0.5253, 'loss': [1.3781, 0.7583, 0.7805, 0.7141, 1.2946], 'xor_precision': [0.2424, 0.0, 0.0, 0.0, 0.5682], 'xor_recall': [0.1591, 0.0, 0.0, 0.0, 0.5714], 'xor_f1': [0.1792, 0.0, 0.0, 0.0, 0.5274], 'and_recall': [0.0, 0.0, 0.0, 0.0, 0.0], 'and_precision': [0.0, 0.0, 0.0, 0.0, 0.0], 'and_f1': [0.0, 0.0, 0.0, 0.0, 0.0], 'overall_accuracy': [0.4538, 0.4502, 0.5506, 0.5904, 0.5817]}\n",
      "['filtered', '0.1', '45'] {'avg_loss': 0.0389, 'avg_xor_precision': 0.2443, 'avg_xor_recall': 0.4039, 'avg_xor_f1': 0.2543, 'avg_and_recall': 0.0, 'avg_and_precision': 0.0, 'avg_and_f1': 0.0, 'avg_overall_accuracy': 0.8768, 'loss': [0.0677, 0.0104, 0.0371, 0.0443, 0.035], 'xor_precision': [0.0, 0.1037, 0.3655, 0.3333, 0.4189], 'xor_recall': [0.0, 0.4364, 0.7684, 0.1545, 0.6602], 'xor_f1': [0.0, 0.157, 0.4382, 0.197, 0.4792], 'and_recall': [0.0, 0.0, 0.0, 0.0, 0.0], 'and_precision': [0.0, 0.0, 0.0, 0.0, 0.0], 'and_f1': [0.0, 0.0, 0.0, 0.0, 0.0], 'overall_accuracy': [0.8275, 0.8902, 0.9173, 0.8599, 0.889]}\n",
      "['filtered', '0.2', '45'] {'avg_loss': 0.0657, 'avg_xor_precision': 0.0696, 'avg_xor_recall': 0.0446, 'avg_xor_f1': 0.0352, 'avg_and_recall': 0.0, 'avg_and_precision': 0.0, 'avg_and_f1': 0.0, 'avg_overall_accuracy': 0.8229, 'loss': [0.093, 0.0403, 0.0895, 0.0677, 0.0379], 'xor_precision': [0.0, 0.1364, 0.0147, 0.1061, 0.0909], 'xor_recall': [0.0, 0.0364, 0.1169, 0.0545, 0.0152], 'xor_f1': [0.0, 0.0563, 0.0225, 0.0714, 0.026], 'and_recall': [0.0, 0.0, 0.0, 0.0, 0.0], 'and_precision': [0.0, 0.0, 0.0, 0.0, 0.0], 'and_f1': [0.0, 0.0, 0.0, 0.0, 0.0], 'overall_accuracy': [0.9075, 0.8949, 0.5665, 0.8512, 0.8942]}\n",
      "['filtered', '0.3', '45'] {'avg_loss': 0.0842, 'avg_xor_precision': 0.0182, 'avg_xor_recall': 0.0036, 'avg_xor_f1': 0.0061, 'avg_and_recall': 0.0, 'avg_and_precision': 0.0, 'avg_and_f1': 0.0, 'avg_overall_accuracy': 0.8886, 'loss': [0.0931, 0.0601, 0.1284, 0.0658, 0.0737], 'xor_precision': [0.0, 0.0909, 0.0, 0.0, 0.0], 'xor_recall': [0.0, 0.0182, 0.0, 0.0, 0.0], 'xor_f1': [0.0, 0.0303, 0.0, 0.0, 0.0], 'and_recall': [0.0, 0.0, 0.0, 0.0, 0.0], 'and_precision': [0.0, 0.0, 0.0, 0.0, 0.0], 'and_f1': [0.0, 0.0, 0.0, 0.0, 0.0], 'overall_accuracy': [0.9364, 0.9234, 0.7572, 0.9166, 0.9096]}\n",
      "['filtered', '0.4', '45'] {'avg_loss': 0.099, 'avg_xor_precision': 0.0564, 'avg_xor_recall': 0.057, 'avg_xor_f1': 0.0398, 'avg_and_recall': 0.0, 'avg_and_precision': 0.0, 'avg_and_f1': 0.0, 'avg_overall_accuracy': 0.8917, 'loss': [0.0939, 0.0422, 0.1661, 0.0766, 0.1161], 'xor_precision': [0.0, 0.0909, 0.0645, 0.0, 0.1266], 'xor_recall': [0.0, 0.0182, 0.1948, 0.0, 0.072], 'xor_f1': [0.0, 0.0303, 0.085, 0.0, 0.0835], 'and_recall': [0.0, 0.0, 0.0, 0.0, 0.0], 'and_precision': [0.0, 0.0, 0.0, 0.0, 0.0], 'and_f1': [0.0, 0.0, 0.0, 0.0, 0.0], 'overall_accuracy': [0.9515, 0.947, 0.7325, 0.9286, 0.8986]}\n",
      "['filtered', '0.5', '45'] {'avg_loss': 0.1195, 'avg_xor_precision': 0.033, 'avg_xor_recall': 0.0525, 'avg_xor_f1': 0.0237, 'avg_and_recall': 0.0, 'avg_and_precision': 0.0, 'avg_and_f1': 0.0, 'avg_overall_accuracy': 0.8978, 'loss': [0.0949, 0.0659, 0.2083, 0.1793, 0.0494], 'xor_precision': [0.0, 0.0909, 0.0288, 0.0455, 0.0], 'xor_recall': [0.0, 0.0182, 0.2078, 0.0364, 0.0], 'xor_f1': [0.0, 0.0303, 0.0477, 0.0404, 0.0], 'and_recall': [0.0, 0.0, 0.0, 0.0, 0.0], 'and_precision': [0.0, 0.0, 0.0, 0.0, 0.0], 'and_f1': [0.0, 0.0, 0.0, 0.0, 0.0], 'overall_accuracy': [0.9608, 0.9553, 0.7301, 0.8883, 0.9545]}\n",
      "['filtered', '0.75', '45'] {'avg_loss': 0.1703, 'avg_xor_precision': 0.0301, 'avg_xor_recall': 0.0475, 'avg_xor_f1': 0.0216, 'avg_and_recall': 0.0, 'avg_and_precision': 0.0, 'avg_and_f1': 0.0, 'avg_overall_accuracy': 0.9218, 'loss': [0.0945, 0.0927, 0.3098, 0.1575, 0.1967], 'xor_precision': [0.0, 0.0909, 0.0413, 0.0, 0.0182], 'xor_recall': [0.0, 0.0182, 0.2078, 0.0, 0.0114], 'xor_f1': [0.0, 0.0303, 0.0639, 0.0, 0.014], 'and_recall': [0.0, 0.0, 0.0, 0.0, 0.0], 'and_precision': [0.0, 0.0, 0.0, 0.0, 0.0], 'and_f1': [0.0, 0.0, 0.0, 0.0, 0.0], 'overall_accuracy': [0.9735, 0.9705, 0.7565, 0.9601, 0.9485]}\n",
      "['filtered', '1.0', '45'] {'avg_loss': 0.1564, 'avg_xor_precision': 0.03, 'avg_xor_recall': 0.0737, 'avg_xor_f1': 0.0291, 'avg_and_recall': 0.0, 'avg_and_precision': 0.0, 'avg_and_f1': 0.0, 'avg_overall_accuracy': 0.9428, 'loss': [0.0946, 0.1039, 0.4053, 0.0622, 0.1161], 'xor_precision': [0.0, 0.0, 0.0365, 0.0, 0.1136], 'xor_recall': [0.0, 0.0, 0.2987, 0.0, 0.0698], 'xor_f1': [0.0, 0.0, 0.0617, 0.0, 0.0838], 'and_recall': [0.0, 0.0, 0.0, 0.0, 0.0], 'and_precision': [0.0, 0.0, 0.0, 0.0, 0.0], 'and_f1': [0.0, 0.0, 0.0, 0.0, 0.0], 'overall_accuracy': [0.98, 0.9749, 0.8134, 0.9777, 0.9678]}\n",
      "['all', '0.3', '43'] {'avg_loss': 0.4071, 'avg_xor_precision': 0.4142, 'avg_xor_recall': 0.327, 'avg_xor_f1': 0.32, 'avg_and_recall': 0.0, 'avg_and_precision': 0.0, 'avg_and_f1': 0.0, 'avg_overall_accuracy': 0.4758, 'loss': [0.4741, 0.4476, 0.3909, 0.2792, 0.4439], 'xor_precision': [0.1394, 0.1818, 0.5758, 0.5455, 0.6288], 'xor_recall': [0.2273, 0.1045, 0.3571, 0.3253, 0.6207], 'xor_f1': [0.1489, 0.1277, 0.4086, 0.3561, 0.5588], 'and_recall': [0.0, 0.0, 0.0, 0.0, 0.0], 'and_precision': [0.0, 0.0, 0.0, 0.0, 0.0], 'and_f1': [0.0, 0.0, 0.0, 0.0, 0.0], 'overall_accuracy': [0.4288, 0.397, 0.4767, 0.5455, 0.5307]}\n",
      "['all', '0.05', '43'] {'avg_loss': 0.0672, 'avg_xor_precision': 0.18, 'avg_xor_recall': 0.4774, 'avg_xor_f1': 0.2022, 'avg_and_recall': 0.0, 'avg_and_precision': 0.0, 'avg_and_f1': 0.0, 'avg_overall_accuracy': 0.3708, 'loss': [0.1193, 0.0747, 0.0506, 0.0447, 0.0466], 'xor_precision': [0.0843, 0.1634, 0.0951, 0.2545, 0.303], 'xor_recall': [0.4318, 0.6545, 0.4935, 0.5384, 0.2689], 'xor_f1': [0.1306, 0.2522, 0.1449, 0.2659, 0.2172], 'and_recall': [0.0, 0.0, 0.0, 0.0, 0.0], 'and_precision': [0.0, 0.0, 0.0, 0.0, 0.0], 'and_f1': [0.0, 0.0, 0.0, 0.0, 0.0], 'overall_accuracy': [0.4086, 0.5193, 0.3099, 0.3655, 0.2505]}\n",
      "['filtered', '0.05', '43'] {'avg_loss': 0.027, 'avg_xor_precision': 0.2801, 'avg_xor_recall': 0.4132, 'avg_xor_f1': 0.2988, 'avg_and_recall': 0.0, 'avg_and_precision': 0.0, 'avg_and_f1': 0.0, 'avg_overall_accuracy': 0.7931, 'loss': [0.0494, 0.0145, 0.0251, 0.0214, 0.0246], 'xor_precision': [0.0, 0.0101, 0.2527, 0.5288, 0.6091], 'xor_recall': [0.0, 0.0182, 0.6472, 0.7232, 0.6775], 'xor_f1': [0.0, 0.013, 0.3268, 0.5559, 0.5984], 'and_recall': [0.0, 0.0, 0.0, 0.0, 0.0], 'and_precision': [0.0, 0.0, 0.0, 0.0, 0.0], 'and_f1': [0.0, 0.0, 0.0, 0.0, 0.0], 'overall_accuracy': [0.6683, 0.6629, 0.8586, 0.9092, 0.8663]}\n",
      "['all', '0.05', '44'] {'avg_loss': 0.0862, 'avg_xor_precision': 0.2151, 'avg_xor_recall': 0.6197, 'avg_xor_f1': 0.2813, 'avg_and_recall': 0.0, 'avg_and_precision': 0.0, 'avg_and_f1': 0.0, 'avg_overall_accuracy': 0.501, 'loss': [0.1184, 0.0721, 0.1084, 0.0877, 0.0444], 'xor_precision': [0.1375, 0.0852, 0.2175, 0.3716, 0.2636], 'xor_recall': [0.4091, 0.6818, 0.5801, 0.701, 0.7267], 'xor_f1': [0.1782, 0.1474, 0.2939, 0.4219, 0.3653], 'and_recall': [0.0, 0.0, 0.0, 0.0, 0.0], 'and_precision': [0.0, 0.0, 0.0, 0.0, 0.0], 'and_f1': [0.0, 0.0, 0.0, 0.0, 0.0], 'overall_accuracy': [0.4149, 0.554, 0.5121, 0.5392, 0.4847]}\n",
      "['filtered', '0.05', '44'] {'avg_loss': 0.0257, 'avg_xor_precision': 0.2526, 'avg_xor_recall': 0.4992, 'avg_xor_f1': 0.2903, 'avg_and_recall': 0.0, 'avg_and_precision': 0.0, 'avg_and_f1': 0.0, 'avg_overall_accuracy': 0.7963, 'loss': [0.0399, 0.0113, 0.0284, 0.0243, 0.0246], 'xor_precision': [0.0, 0.1927, 0.2302, 0.275, 0.5652], 'xor_recall': [0.0, 0.6136, 0.7013, 0.6475, 0.5335], 'xor_f1': [0.0, 0.2743, 0.3149, 0.3454, 0.5171], 'and_recall': [0.0, 0.0, 0.0, 0.0, 0.0], 'and_precision': [0.0, 0.0, 0.0, 0.0, 0.0], 'and_f1': [0.0, 0.0, 0.0, 0.0, 0.0], 'overall_accuracy': [0.6896, 0.892, 0.7263, 0.8474, 0.826]}\n",
      "['all', '0.05', '45'] {'avg_loss': 0.1103, 'avg_xor_precision': 0.2672, 'avg_xor_recall': 0.5286, 'avg_xor_f1': 0.301, 'avg_and_recall': 0.0091, 'avg_and_precision': 0.0014, 'avg_and_f1': 0.002, 'avg_overall_accuracy': 0.4247, 'loss': [0.1352, 0.0937, 0.1327, 0.0941, 0.096], 'xor_precision': [0.0827, 0.1996, 0.3121, 0.3563, 0.3854], 'xor_recall': [0.5, 0.5318, 0.4004, 0.5788, 0.632], 'xor_f1': [0.1342, 0.271, 0.2753, 0.3835, 0.4408], 'and_recall': [0.0152, 0.0, 0.0303, 0.0, 0.0], 'and_precision': [0.0065, 0.0, 0.0004, 0.0, 0.0], 'and_f1': [0.0091, 0.0, 0.0008, 0.0, 0.0], 'overall_accuracy': [0.3421, 0.4929, 0.3191, 0.4872, 0.4821]}\n",
      "['filtered', '0.05', '45'] {'avg_loss': 0.0284, 'avg_xor_precision': 0.241, 'avg_xor_recall': 0.386, 'avg_xor_f1': 0.2148, 'avg_and_recall': 0.0, 'avg_and_precision': 0.0, 'avg_and_f1': 0.0, 'avg_overall_accuracy': 0.7623, 'loss': [0.0455, 0.0155, 0.0276, 0.0242, 0.0291], 'xor_precision': [0.0, 0.2219, 0.0891, 0.4394, 0.4545], 'xor_recall': [0.0, 0.5955, 0.7922, 0.3, 0.2424], 'xor_f1': [0.0, 0.3051, 0.1529, 0.313, 0.303], 'and_recall': [0.0, 0.0, 0.0, 0.0, 0.0], 'and_precision': [0.0, 0.0, 0.0, 0.0, 0.0], 'and_f1': [0.0, 0.0, 0.0, 0.0, 0.0], 'overall_accuracy': [0.6955, 0.8886, 0.7338, 0.765, 0.7289]}\n"
     ]
    }
   ],
   "source": [
    "for params, metrics in runs:\n",
    "    print(params, metrics)"
   ]
  },
  {
   "cell_type": "markdown",
   "id": "d8194ecf",
   "metadata": {},
   "source": [
    "## Analyze Data"
   ]
  },
  {
   "cell_type": "code",
   "execution_count": 122,
   "id": "2f58b850",
   "metadata": {},
   "outputs": [],
   "source": [
    "def fitler_runs(runs, labels=None, weights=None, seed=None):\n",
    "    runs_filtered = copy.deepcopy(runs)\n",
    "    if labels:\n",
    "        runs_filtered = [r for r in runs_filtered if r[0][0] == str(labels)]\n",
    "    if weights:\n",
    "        runs_filtered = [r for r in runs_filtered if r[0][1] == str(weights)]\n",
    "    if seed:\n",
    "        runs_filtered = [r for r in runs_filtered if r[0][2] == str(seed)]\n",
    "    return runs_filtered"
   ]
  },
  {
   "cell_type": "code",
   "execution_count": 154,
   "id": "7b6d6322",
   "metadata": {},
   "outputs": [
    {
     "name": "stdout",
     "output_type": "stream",
     "text": [
      "16\n"
     ]
    }
   ],
   "source": [
    "s43_runs = fitler_runs(runs, seed=43)\n",
    "print(len(s43_runs))\n",
    "s44_runs = fitler_runs(runs, seed=44)\n",
    "s45_runs = fitler_runs(runs, seed=45)"
   ]
  },
  {
   "cell_type": "code",
   "execution_count": 160,
   "id": "fcdc4375",
   "metadata": {},
   "outputs": [],
   "source": [
    "avg_metrics = ['avg_overall_accuracy', 'avg_xor_precision', 'avg_xor_recall', 'avg_xor_f1', \n",
    "               'avg_and_recall', 'avg_and_precision', 'avg_and_f1', 'avg_loss',]\n",
    "avg_metrics_interest = ['avg_overall_accuracy', 'avg_xor_precision', 'avg_xor_recall', 'avg_xor_f1', 'avg_and_f1']\n",
    "metrics_interest = ['overall_accuracy', 'xor_precision', 'xor_recall', 'xor_f1', 'and_f1']"
   ]
  },
  {
   "cell_type": "markdown",
   "id": "9e106f01",
   "metadata": {},
   "source": [
    "### A) Seeds Difference"
   ]
  },
  {
   "cell_type": "code",
   "execution_count": 155,
   "id": "6687e2db",
   "metadata": {},
   "outputs": [
    {
     "name": "stdout",
     "output_type": "stream",
     "text": [
      "('all', '0.05')\n",
      "('all', '0.1')\n",
      "('all', '0.2')\n",
      "('all', '0.3')\n",
      "('all', '0.4')\n",
      "('all', '0.5')\n",
      "('all', '0.75')\n",
      "('all', '1.0')\n",
      "('filtered', '0.05')\n",
      "('filtered', '0.1')\n",
      "('filtered', '0.2')\n",
      "('filtered', '0.3')\n",
      "('filtered', '0.4')\n",
      "('filtered', '0.5')\n",
      "('filtered', '0.75')\n",
      "('filtered', '1.0')\n"
     ]
    }
   ],
   "source": [
    "param_lists = [\n",
    "   ['all', 'filtered'],\n",
    "   ['0.05', '0.1', '0.2', '0.3', '0.4', '0.5', '0.75', '1.0'],\n",
    "]\n",
    "label_weights_combinations = list(itertools.product(*param_lists))\n",
    "for element in label_weights_combinations:\n",
    "    print(element)"
   ]
  },
  {
   "cell_type": "code",
   "execution_count": 168,
   "id": "99507384",
   "metadata": {
    "scrolled": false
   },
   "outputs": [
    {
     "name": "stdout",
     "output_type": "stream",
     "text": [
      "----------------------------------------- ('all', '0.05') ------------------------------------------\n",
      "avg_overall_accuracy mean: 0.4322 | var: 0.0043   | stdev: 0.0654  | values: [0.3708, 0.501, 0.4247]\n",
      "avg_xor_precision    mean: 0.2208 | var: 0.0019   | stdev: 0.0439  | values: [0.18, 0.2151, 0.2672]\n",
      "avg_xor_recall       mean: 0.5419 | var: 0.0052   | stdev: 0.0721  | values: [0.4774, 0.6197, 0.5286]\n",
      "avg_xor_f1           mean: 0.2615 | var: 0.0027   | stdev: 0.0523  | values: [0.2022, 0.2813, 0.301]\n",
      "avg_and_f1           mean: 0.0007 | var: 0.0      | stdev: 0.0012  | values: [0.0, 0.0, 0.002]\n",
      "\n",
      "------------------------------------------ ('all', '0.1') ------------------------------------------\n",
      "avg_overall_accuracy mean: 0.4631 | var: 0.0004   | stdev: 0.0198  | values: [0.465, 0.4819, 0.4425]\n",
      "avg_xor_precision    mean: 0.245  | var: 0.0012   | stdev: 0.035   | values: [0.273, 0.2562, 0.2058]\n",
      "avg_xor_recall       mean: 0.5912 | var: 0.0004   | stdev: 0.0211  | values: [0.5678, 0.6086, 0.5972]\n",
      "avg_xor_f1           mean: 0.289  | var: 0.0014   | stdev: 0.037   | values: [0.3071, 0.3135, 0.2465]\n",
      "avg_and_f1           mean: 0.0016 | var: 0.0      | stdev: 0.0002  | values: [0.0017, 0.0018, 0.0014]\n",
      "\n",
      "------------------------------------------ ('all', '0.2') ------------------------------------------\n",
      "avg_overall_accuracy mean: 0.4389 | var: 0.0011   | stdev: 0.0336  | values: [0.4395, 0.405, 0.4721]\n",
      "avg_xor_precision    mean: 0.2602 | var: 0.0047   | stdev: 0.0688  | values: [0.2028, 0.2413, 0.3364]\n",
      "avg_xor_recall       mean: 0.5118 | var: 0.0004   | stdev: 0.0209  | values: [0.5333, 0.5106, 0.4916]\n",
      "avg_xor_f1           mean: 0.2876 | var: 0.0025   | stdev: 0.0496  | values: [0.2499, 0.2691, 0.3437]\n",
      "avg_and_f1           mean: 0.0001 | var: 0.0      | stdev: 0.0002  | values: [0.0, 0.0004, 0.0]\n",
      "\n",
      "------------------------------------------ ('all', '0.3') ------------------------------------------\n",
      "avg_overall_accuracy mean: 0.4704 | var: 0.0001   | stdev: 0.0092  | values: [0.4755, 0.4598, 0.4758]\n",
      "avg_xor_precision    mean: 0.3089 | var: 0.0086   | stdev: 0.0927  | values: [0.2397, 0.2729, 0.4142]\n",
      "avg_xor_recall       mean: 0.3612 | var: 0.0015   | stdev: 0.0382  | values: [0.3543, 0.4024, 0.327]\n",
      "avg_xor_f1           mean: 0.2789 | var: 0.0015   | stdev: 0.0384  | values: [0.2438, 0.273, 0.32]\n",
      "avg_and_f1           mean: 0.0    | var: 0.0      | stdev: 0.0     | values: [0.0, 0.0, 0.0]\n",
      "\n",
      "------------------------------------------ ('all', '0.4') ------------------------------------------\n",
      "avg_overall_accuracy mean: 0.517  | var: 0.0      | stdev: 0.0037  | values: [0.517, 0.5207, 0.5134]\n",
      "avg_xor_precision    mean: 0.3731 | var: 0.0001   | stdev: 0.0111  | values: [0.3603, 0.38, 0.3791]\n",
      "avg_xor_recall       mean: 0.2655 | var: 0.0001   | stdev: 0.0077  | values: [0.2566, 0.2692, 0.2706]\n",
      "avg_xor_f1           mean: 0.2783 | var: 0.0001   | stdev: 0.009   | values: [0.2679, 0.2844, 0.2825]\n",
      "avg_and_f1           mean: 0.0    | var: 0.0      | stdev: 0.0     | values: [0.0, 0.0, 0.0]\n",
      "\n",
      "------------------------------------------ ('all', '0.5') ------------------------------------------\n",
      "avg_overall_accuracy mean: 0.5051 | var: 0.0      | stdev: 0.0054  | values: [0.5035, 0.5111, 0.5007]\n",
      "avg_xor_precision    mean: 0.3499 | var: 0.0015   | stdev: 0.0389  | values: [0.3175, 0.3391, 0.393]\n",
      "avg_xor_recall       mean: 0.2616 | var: 0.0001   | stdev: 0.0115  | values: [0.2494, 0.2723, 0.263]\n",
      "avg_xor_f1           mean: 0.26   | var: 0.0004   | stdev: 0.0197  | values: [0.2382, 0.2655, 0.2764]\n",
      "avg_and_f1           mean: 0.0    | var: 0.0      | stdev: 0.0     | values: [0.0, 0.0, 0.0]\n",
      "\n",
      "----------------------------------------- ('all', '0.75') ------------------------------------------\n",
      "avg_overall_accuracy mean: 0.5022 | var: 0.001    | stdev: 0.0309  | values: [0.5107, 0.5279, 0.4679]\n",
      "avg_xor_precision    mean: 0.2076 | var: 0.0123   | stdev: 0.1111  | values: [0.2485, 0.2924, 0.0818]\n",
      "avg_xor_recall       mean: 0.1321 | var: 0.0046   | stdev: 0.0676  | values: [0.1722, 0.1701, 0.0541]\n",
      "avg_xor_f1           mean: 0.1436 | var: 0.0054   | stdev: 0.0736  | values: [0.1787, 0.1931, 0.0591]\n",
      "avg_and_f1           mean: 0.0    | var: 0.0      | stdev: 0.0     | values: [0.0, 0.0, 0.0]\n",
      "\n",
      "------------------------------------------ ('all', '1.0') ------------------------------------------\n",
      "avg_overall_accuracy mean: 0.5116 | var: 0.0006   | stdev: 0.0243  | values: [0.4835, 0.5259, 0.5253]\n",
      "avg_xor_precision    mean: 0.2151 | var: 0.0022   | stdev: 0.0464  | values: [0.2485, 0.2347, 0.1621]\n",
      "avg_xor_recall       mean: 0.1599 | var: 0.0007   | stdev: 0.0263  | values: [0.1433, 0.1902, 0.1461]\n",
      "avg_xor_f1           mean: 0.16   | var: 0.0003   | stdev: 0.0163  | values: [0.1676, 0.171, 0.1413]\n",
      "avg_and_f1           mean: 0.0    | var: 0.0      | stdev: 0.0     | values: [0.0, 0.0, 0.0]\n",
      "\n",
      "--------------------------------------- ('filtered', '0.05') ---------------------------------------\n",
      "avg_overall_accuracy mean: 0.7839 | var: 0.0004   | stdev: 0.0188  | values: [0.7931, 0.7963, 0.7623]\n",
      "avg_xor_precision    mean: 0.2579 | var: 0.0004   | stdev: 0.0201  | values: [0.2801, 0.2526, 0.241]\n",
      "avg_xor_recall       mean: 0.4328 | var: 0.0035   | stdev: 0.0591  | values: [0.4132, 0.4992, 0.386]\n",
      "avg_xor_f1           mean: 0.268  | var: 0.0021   | stdev: 0.0462  | values: [0.2988, 0.2903, 0.2148]\n",
      "avg_and_f1           mean: 0.0    | var: 0.0      | stdev: 0.0     | values: [0.0, 0.0, 0.0]\n",
      "\n",
      "--------------------------------------- ('filtered', '0.1') ----------------------------------------\n",
      "avg_overall_accuracy mean: 0.8759 | var: 0.0001   | stdev: 0.0082  | values: [0.8836, 0.8672, 0.8768]\n",
      "avg_xor_precision    mean: 0.2511 | var: 0.0006   | stdev: 0.0253  | values: [0.2791, 0.2299, 0.2443]\n",
      "avg_xor_recall       mean: 0.3855 | var: 0.0056   | stdev: 0.0749  | values: [0.4494, 0.3031, 0.4039]\n",
      "avg_xor_f1           mean: 0.2445 | var: 0.0025   | stdev: 0.0504  | values: [0.2893, 0.19, 0.2543]\n",
      "avg_and_f1           mean: 0.0    | var: 0.0      | stdev: 0.0     | values: [0.0, 0.0, 0.0]\n",
      "\n",
      "--------------------------------------- ('filtered', '0.2') ----------------------------------------\n",
      "avg_overall_accuracy mean: 0.8279 | var: 0.0017   | stdev: 0.0418  | values: [0.872, 0.7888, 0.8229]\n",
      "avg_xor_precision    mean: 0.0605 | var: 0.0002   | stdev: 0.0148  | values: [0.0685, 0.0435, 0.0696]\n",
      "avg_xor_recall       mean: 0.0287 | var: 0.0002   | stdev: 0.0138  | values: [0.0222, 0.0194, 0.0446]\n",
      "avg_xor_f1           mean: 0.0304 | var: 0.0      | stdev: 0.0053  | values: [0.0314, 0.0247, 0.0352]\n",
      "avg_and_f1           mean: 0.0    | var: 0.0      | stdev: 0.0     | values: [0.0, 0.0, 0.0]\n",
      "\n",
      "--------------------------------------- ('filtered', '0.3') ----------------------------------------\n",
      "avg_overall_accuracy mean: 0.8554 | var: 0.0011   | stdev: 0.0336  | values: [0.8215, 0.856, 0.8886]\n",
      "avg_xor_precision    mean: 0.03   | var: 0.0003   | stdev: 0.0175  | values: [0.0501, 0.0216, 0.0182]\n",
      "avg_xor_recall       mean: 0.0256 | var: 0.0005   | stdev: 0.0214  | values: [0.0463, 0.027, 0.0036]\n",
      "avg_xor_f1           mean: 0.015  | var: 0.0001   | stdev: 0.0112  | values: [0.0275, 0.0113, 0.0061]\n",
      "avg_and_f1           mean: 0.0    | var: 0.0      | stdev: 0.0     | values: [0.0, 0.0, 0.0]\n",
      "\n",
      "--------------------------------------- ('filtered', '0.4') ----------------------------------------\n",
      "avg_overall_accuracy mean: 0.9099 | var: 0.0005   | stdev: 0.0222  | values: [0.9346, 0.9034, 0.8917]\n",
      "avg_xor_precision    mean: 0.0759 | var: 0.0003   | stdev: 0.0182  | values: [0.0924, 0.079, 0.0564]\n",
      "avg_xor_recall       mean: 0.0599 | var: 0.0001   | stdev: 0.0078  | values: [0.054, 0.0687, 0.057]\n",
      "avg_xor_f1           mean: 0.0462 | var: 0.0      | stdev: 0.0058  | values: [0.0476, 0.0511, 0.0398]\n",
      "avg_and_f1           mean: 0.0    | var: 0.0      | stdev: 0.0     | values: [0.0, 0.0, 0.0]\n",
      "\n",
      "--------------------------------------- ('filtered', '0.5') ----------------------------------------\n",
      "avg_overall_accuracy mean: 0.9034 | var: 0.0001   | stdev: 0.0102  | values: [0.8972, 0.9152, 0.8978]\n",
      "avg_xor_precision    mean: 0.04   | var: 0.0001   | stdev: 0.0095  | values: [0.0508, 0.0362, 0.033]\n",
      "avg_xor_recall       mean: 0.0518 | var: 0.0      | stdev: 0.0012  | values: [0.0525, 0.0505, 0.0525]\n",
      "avg_xor_f1           mean: 0.0252 | var: 0.0      | stdev: 0.0013  | values: [0.0262, 0.0256, 0.0237]\n",
      "avg_and_f1           mean: 0.0    | var: 0.0      | stdev: 0.0     | values: [0.0, 0.0, 0.0]\n",
      "\n",
      "--------------------------------------- ('filtered', '0.75') ---------------------------------------\n",
      "avg_overall_accuracy mean: 0.9244 | var: 0.0001   | stdev: 0.0083  | values: [0.9337, 0.9178, 0.9218]\n",
      "avg_xor_precision    mean: 0.0356 | var: 0.0001   | stdev: 0.0097  | values: [0.0468, 0.0298, 0.0301]\n",
      "avg_xor_recall       mean: 0.0471 | var: 0.0      | stdev: 0.0008  | values: [0.0462, 0.0475, 0.0475]\n",
      "avg_xor_f1           mean: 0.0227 | var: 0.0      | stdev: 0.0033  | values: [0.0264, 0.0202, 0.0216]\n",
      "avg_and_f1           mean: 0.0    | var: 0.0      | stdev: 0.0     | values: [0.0, 0.0, 0.0]\n",
      "\n",
      "--------------------------------------- ('filtered', '1.0') ----------------------------------------\n",
      "avg_overall_accuracy mean: 0.9542 | var: 0.0001   | stdev: 0.01    | values: [0.9584, 0.9615, 0.9428]\n",
      "avg_xor_precision    mean: 0.0209 | var: 0.0001   | stdev: 0.0095  | values: [0.0216, 0.011, 0.03]\n",
      "avg_xor_recall       mean: 0.0541 | var: 0.0003   | stdev: 0.0172  | values: [0.0469, 0.0416, 0.0737]\n",
      "avg_xor_f1           mean: 0.0225 | var: 0.0      | stdev: 0.0069  | values: [0.023, 0.0154, 0.0291]\n",
      "avg_and_f1           mean: 0.0    | var: 0.0      | stdev: 0.0     | values: [0.0, 0.0, 0.0]\n",
      "\n"
     ]
    }
   ],
   "source": [
    "label_weights_combinations_stats = []\n",
    "for (labels, weight) in label_weights_combinations:\n",
    "    print(f\" {labels, weight} \".center(100, '-'))\n",
    "    label_weights_combination_runs = fitler_runs(runs, labels=labels, weights=weight)\n",
    "    label_weights_combination_metrics = {}\n",
    "    \n",
    "    for avg_metric in avg_metrics_interest:\n",
    "        # label_weights_combination_values\n",
    "        values = [r[1][avg_metric] for r in label_weights_combination_runs]\n",
    "        print(avg_metric.ljust(20, ' '), end=' ')\n",
    "        mean = round(np.mean(values), 4)\n",
    "        print(f\"mean: {mean}\".ljust(12, ' '), end=' ')\n",
    "        print(f\"| var: {round(s.variance(values), 4)}\".ljust(15, ' '), end=' ')\n",
    "        print(f\"| stdev: {round(s.stdev(values), 4)}\".ljust(16, ' '), end=' ')\n",
    "        print(f\"| values: {values}\")\n",
    "        label_weights_combination_metrics[avg_metric] = mean\n",
    "\n",
    "    label_weights_combinations_stats.append(((labels, weight), label_weights_combination_metrics))\n",
    "    print()"
   ]
  },
  {
   "cell_type": "markdown",
   "id": "cf8aae44",
   "metadata": {},
   "source": [
    "### B) Best Models w.r.t. Metrics"
   ]
  },
  {
   "cell_type": "markdown",
   "id": "3dd17976",
   "metadata": {},
   "source": [
    "##### 1) XOR Precision\n",
    "models with middle high weight for other labels perform well, but recall for top ones much lower than precision"
   ]
  },
  {
   "cell_type": "code",
   "execution_count": 169,
   "id": "0fd3cf6f",
   "metadata": {},
   "outputs": [
    {
     "name": "stdout",
     "output_type": "stream",
     "text": [
      "(('all', '0.4'), {'avg_overall_accuracy': 0.517, 'avg_xor_precision': 0.3731, 'avg_xor_recall': 0.2655, 'avg_xor_f1': 0.2783, 'avg_and_f1': 0.0})\n",
      "(('all', '0.5'), {'avg_overall_accuracy': 0.5051, 'avg_xor_precision': 0.3499, 'avg_xor_recall': 0.2616, 'avg_xor_f1': 0.26, 'avg_and_f1': 0.0})\n",
      "(('all', '0.3'), {'avg_overall_accuracy': 0.4704, 'avg_xor_precision': 0.3089, 'avg_xor_recall': 0.3612, 'avg_xor_f1': 0.2789, 'avg_and_f1': 0.0})\n",
      "(('all', '0.2'), {'avg_overall_accuracy': 0.4389, 'avg_xor_precision': 0.2602, 'avg_xor_recall': 0.5118, 'avg_xor_f1': 0.2876, 'avg_and_f1': 0.0001})\n"
     ]
    }
   ],
   "source": [
    "# 1) XOR Precision\n",
    "label_weights_combinations_stats.sort(key=lambda param_stats: param_stats[1]['avg_xor_precision'], reverse=True)\n",
    "for x in label_weights_combinations_stats[:4]:\n",
    "    print(x)"
   ]
  },
  {
   "cell_type": "markdown",
   "id": "5e95213e",
   "metadata": {},
   "source": [
    "##### 2) XOR Recall\n",
    "+ models with low weight for other labels perform well -> makes sense because then overall more XOR is predicted and the recall gets higher\n",
    "+ but precision for top ones much lower than recall"
   ]
  },
  {
   "cell_type": "code",
   "execution_count": 163,
   "id": "21d92463",
   "metadata": {},
   "outputs": [
    {
     "name": "stdout",
     "output_type": "stream",
     "text": [
      "(('all', '0.1'), {'avg_overall_accuracy': 0.4631, 'avg_xor_precision': 0.245, 'avg_xor_recall': 0.5912, 'avg_xor_f1': 0.289, 'avg_and_f1': 0.0016})\n",
      "(('all', '0.05'), {'avg_overall_accuracy': 0.4322, 'avg_xor_precision': 0.2208, 'avg_xor_recall': 0.5419, 'avg_xor_f1': 0.2615, 'avg_and_f1': 0.0007})\n",
      "(('all', '0.2'), {'avg_overall_accuracy': 0.4389, 'avg_xor_precision': 0.2602, 'avg_xor_recall': 0.5118, 'avg_xor_f1': 0.2876, 'avg_and_f1': 0.0001})\n",
      "(('filtered', '0.05'), {'avg_overall_accuracy': 0.7839, 'avg_xor_precision': 0.2579, 'avg_xor_recall': 0.4328, 'avg_xor_f1': 0.268, 'avg_and_f1': 0.0})\n"
     ]
    }
   ],
   "source": [
    "label_weights_combinations_stats.sort(key=lambda param_stats: param_stats[1]['avg_xor_recall'], reverse=True)\n",
    "for x in label_weights_combinations_stats[:4]:\n",
    "    print(x)"
   ]
  },
  {
   "cell_type": "markdown",
   "id": "6537150f",
   "metadata": {},
   "source": [
    "##### 3) XOR Recall + XOR Precision\n",
    "+ ?"
   ]
  },
  {
   "cell_type": "code",
   "execution_count": 174,
   "id": "9caf8ecb",
   "metadata": {},
   "outputs": [
    {
     "name": "stdout",
     "output_type": "stream",
     "text": [
      "(('all', '0.1'), {'avg_overall_accuracy': 0.4631, 'avg_xor_precision': 0.245, 'avg_xor_recall': 0.5912, 'avg_xor_f1': 0.289, 'avg_and_f1': 0.0016})\n",
      "(('all', '0.2'), {'avg_overall_accuracy': 0.4389, 'avg_xor_precision': 0.2602, 'avg_xor_recall': 0.5118, 'avg_xor_f1': 0.2876, 'avg_and_f1': 0.0001})\n",
      "(('all', '0.05'), {'avg_overall_accuracy': 0.4322, 'avg_xor_precision': 0.2208, 'avg_xor_recall': 0.5419, 'avg_xor_f1': 0.2615, 'avg_and_f1': 0.0007})\n",
      "(('filtered', '0.05'), {'avg_overall_accuracy': 0.7839, 'avg_xor_precision': 0.2579, 'avg_xor_recall': 0.4328, 'avg_xor_f1': 0.268, 'avg_and_f1': 0.0})\n"
     ]
    }
   ],
   "source": [
    "label_weights_combinations_stats.sort(\n",
    "    key=lambda param_stats: (param_stats[1]['avg_xor_precision'] + param_stats[1]['avg_xor_recall'],), \n",
    "    reverse=True)\n",
    "for x in label_weights_combinations_stats[:4]:\n",
    "    print(x)"
   ]
  },
  {
   "cell_type": "markdown",
   "id": "155227c7",
   "metadata": {},
   "source": [
    "##### 4a) Overall Accuracy\n",
    "+ Obviously filtered label set performs best because of high share of \"Other\" class"
   ]
  },
  {
   "cell_type": "code",
   "execution_count": 175,
   "id": "3c3fc193",
   "metadata": {},
   "outputs": [
    {
     "name": "stdout",
     "output_type": "stream",
     "text": [
      "(('filtered', '1.0'), {'avg_overall_accuracy': 0.9542, 'avg_xor_precision': 0.0209, 'avg_xor_recall': 0.0541, 'avg_xor_f1': 0.0225, 'avg_and_f1': 0.0})\n",
      "(('filtered', '0.75'), {'avg_overall_accuracy': 0.9244, 'avg_xor_precision': 0.0356, 'avg_xor_recall': 0.0471, 'avg_xor_f1': 0.0227, 'avg_and_f1': 0.0})\n",
      "(('filtered', '0.4'), {'avg_overall_accuracy': 0.9099, 'avg_xor_precision': 0.0759, 'avg_xor_recall': 0.0599, 'avg_xor_f1': 0.0462, 'avg_and_f1': 0.0})\n",
      "(('filtered', '0.5'), {'avg_overall_accuracy': 0.9034, 'avg_xor_precision': 0.04, 'avg_xor_recall': 0.0518, 'avg_xor_f1': 0.0252, 'avg_and_f1': 0.0})\n"
     ]
    }
   ],
   "source": [
    "label_weights_combinations_stats.sort(key=lambda param_stats: param_stats[1]['avg_overall_accuracy'], reverse=True)\n",
    "for x in label_weights_combinations_stats[:4]:\n",
    "    print(x)"
   ]
  },
  {
   "cell_type": "markdown",
   "id": "ebb2f2c5",
   "metadata": {},
   "source": [
    "##### 4b) Overall Accuracy - only all labels\n",
    "+ performance is about the same, because majority of labels gets the same weight; only minority gateways are higher"
   ]
  },
  {
   "cell_type": "code",
   "execution_count": 178,
   "id": "593edb3c",
   "metadata": {},
   "outputs": [
    {
     "name": "stdout",
     "output_type": "stream",
     "text": [
      "(('all', '0.4'), {'avg_overall_accuracy': 0.517, 'avg_xor_precision': 0.3731, 'avg_xor_recall': 0.2655, 'avg_xor_f1': 0.2783, 'avg_and_f1': 0.0})\n",
      "(('all', '1.0'), {'avg_overall_accuracy': 0.5116, 'avg_xor_precision': 0.2151, 'avg_xor_recall': 0.1599, 'avg_xor_f1': 0.16, 'avg_and_f1': 0.0})\n",
      "(('all', '0.5'), {'avg_overall_accuracy': 0.5051, 'avg_xor_precision': 0.3499, 'avg_xor_recall': 0.2616, 'avg_xor_f1': 0.26, 'avg_and_f1': 0.0})\n",
      "(('all', '0.75'), {'avg_overall_accuracy': 0.5022, 'avg_xor_precision': 0.2076, 'avg_xor_recall': 0.1321, 'avg_xor_f1': 0.1436, 'avg_and_f1': 0.0})\n"
     ]
    }
   ],
   "source": [
    "all_weights_combinations_stats = [x for x in copy.deepcopy(label_weights_combinations_stats) if x[0][0] == 'all']\n",
    "all_weights_combinations_stats.sort(key=lambda param_stats: param_stats[1]['avg_overall_accuracy'], reverse=True)\n",
    "for x in all_weights_combinations_stats[:4]:\n",
    "    print(x)"
   ]
  },
  {
   "cell_type": "markdown",
   "id": "bdddfc18",
   "metadata": {},
   "source": [
    "### C) Fold Difference"
   ]
  },
  {
   "cell_type": "code",
   "execution_count": 150,
   "id": "80446fae",
   "metadata": {
    "scrolled": false
   },
   "outputs": [
    {
     "name": "stdout",
     "output_type": "stream",
     "text": [
      "---------------------------------------------- Fold 1 ----------------------------------------------\n",
      "overall_accuracy mean: 0.4225 | var: 0.0022   | stdev: 0.0471  | values (7): [0.318, 0.4318, 0.4243, 0.4461] ...\n",
      "xor_precision    mean: 0.1377 | var: 0.0044   | stdev: 0.0662  | values (7): [0.0374, 0.1282, 0.0909, 0.1364] ...\n",
      "xor_recall       mean: 0.2857 | var: 0.0353   | stdev: 0.1878  | values (7): [0.6364, 0.4091, 0.1591, 0.1591] ...\n",
      "xor_f1           mean: 0.147  | var: 0.003    | stdev: 0.0551  | values (7): [0.0685, 0.1793, 0.097, 0.1364] ...\n",
      "and_f1           mean: 0.001  | var: 0.0      | stdev: 0.0026  | values (7): [0.007, 0.0, 0.0, 0.0] ...\n",
      "\n",
      "---------------------------------------------- Fold 2 ----------------------------------------------\n",
      "overall_accuracy mean: 0.4646 | var: 0.0011   | stdev: 0.0329  | values (7): [0.442, 0.5194, 0.4493, 0.4547] ...\n",
      "xor_precision    mean: 0.1334 | var: 0.023    | stdev: 0.1518  | values (7): [0.0708, 0.4379, 0.1979, 0.1364] ...\n",
      "xor_recall       mean: 0.2156 | var: 0.0608   | stdev: 0.2465  | values (7): [0.55, 0.4864, 0.3818, 0.0682] ...\n",
      "xor_f1           mean: 0.1316 | var: 0.0249   | stdev: 0.1577  | values (7): [0.1221, 0.429, 0.2521, 0.0818] ...\n",
      "and_f1           mean: 0.0    | var: 0.0      | stdev: 0.0     | values (7): [0.0, 0.0, 0.0, 0.0] ...\n",
      "\n",
      "---------------------------------------------- Fold 3 ----------------------------------------------\n",
      "overall_accuracy mean: 0.4845 | var: 0.0013   | stdev: 0.0354  | values (7): [0.4496, 0.47, 0.4778, 0.5144] ...\n",
      "xor_precision    mean: 0.2029 | var: 0.021    | stdev: 0.145   | values (7): [0.1229, 0.2217, 0.4394, 0.2727] ...\n",
      "xor_recall       mean: 0.2205 | var: 0.0383   | stdev: 0.1956  | values (7): [0.4394, 0.4913, 0.3009, 0.1494] ...\n",
      "xor_f1           mean: 0.1619 | var: 0.0135   | stdev: 0.116   | values (7): [0.1779, 0.2735, 0.3106, 0.1742] ...\n",
      "and_f1           mean: 0.0    | var: 0.0      | stdev: 0.0     | values (7): [0.0, 0.0, 0.0, 0.0] ...\n",
      "\n",
      "---------------------------------------------- Fold 4 ----------------------------------------------\n",
      "overall_accuracy mean: 0.5251 | var: 0.0033   | stdev: 0.0574  | values (7): [0.5092, 0.4413, 0.5127, 0.5694] ...\n",
      "xor_precision    mean: 0.344  | var: 0.0732   | stdev: 0.2706  | values (7): [0.2565, 0.4684, 0.4106, 0.6818] ...\n",
      "xor_recall       mean: 0.3361 | var: 0.0668   | stdev: 0.2584  | values (7): [0.6828, 0.4505, 0.5384, 0.3556] ...\n",
      "xor_f1           mean: 0.2778 | var: 0.037    | stdev: 0.1922  | values (7): [0.3287, 0.3942, 0.4032, 0.4318] ...\n",
      "and_f1           mean: 0.0    | var: 0.0      | stdev: 0.0     | values (7): [0.0, 0.0, 0.0, 0.0] ...\n",
      "\n",
      "---------------------------------------------- Fold 5 ----------------------------------------------\n",
      "overall_accuracy mean: 0.5189 | var: 0.0027   | stdev: 0.052   | values (7): [0.4938, 0.4984, 0.435, 0.5824] ...\n",
      "xor_precision    mean: 0.49   | var: 0.0529   | stdev: 0.2299  | values (7): [0.5416, 0.4261, 0.2257, 0.6682] ...\n",
      "xor_recall       mean: 0.5315 | var: 0.0367   | stdev: 0.1916  | values (7): [0.6775, 0.6207, 0.632, 0.6207] ...\n",
      "xor_f1           mean: 0.4408 | var: 0.0271   | stdev: 0.1647  | values (7): [0.5352, 0.4426, 0.3021, 0.5885] ...\n",
      "and_f1           mean: 0.0    | var: 0.0      | stdev: 0.0     | values (7): [0.0, 0.0, 0.0, 0.0] ...\n",
      "\n"
     ]
    }
   ],
   "source": [
    "folds = ['1', '2', '3', '4', '5']\n",
    "\n",
    "for fold_idx, fold in enumerate(folds):\n",
    "    print(f\" Fold {fold} \".center(100, '-'))\n",
    "    filtered_runs = fitler_runs(runs, labels=\"all\", seed=45)  # ONLY EXAMPLE, CHOOSE EVERY OTHER PARAM FILTER -> SAME EFFECT\n",
    "    \n",
    "    for metric in metrics_interest:\n",
    "        # label_weights_combination_values\n",
    "        params = [r[0] for r in filtered_runs]\n",
    "        # print(params, end=' ')\n",
    "        values = [r[1][metric][fold_idx] for r in filtered_runs]\n",
    "        print(metric.ljust(16, ' '), end=' ')\n",
    "        mean = round(np.mean(values), 4)\n",
    "        print(f\"mean: {mean}\".ljust(12, ' '), end=' ')\n",
    "        print(f\"| var: {round(s.variance(values), 4)}\".ljust(15, ' '), end=' ')\n",
    "        print(f\"| stdev: {round(s.stdev(values), 4)}\".ljust(16, ' '), end=' ')\n",
    "        print(f\"| values ({len(values)}): {values[:4]} ...\")\n",
    "        #label_weights_combination_metrics[avg_metric] = mean\n",
    "\n",
    "#     label_weights_combinations_stats.append(((labels, weight), label_weights_combination_metrics))\n",
    "    print()"
   ]
  }
 ],
 "metadata": {
  "kernelspec": {
   "display_name": "Python 3 (ipykernel)",
   "language": "python",
   "name": "python3"
  },
  "language_info": {
   "codemirror_mode": {
    "name": "ipython",
    "version": 3
   },
   "file_extension": ".py",
   "mimetype": "text/x-python",
   "name": "python",
   "nbconvert_exporter": "python",
   "pygments_lexer": "ipython3",
   "version": "3.8.13"
  }
 },
 "nbformat": 4,
 "nbformat_minor": 5
}
