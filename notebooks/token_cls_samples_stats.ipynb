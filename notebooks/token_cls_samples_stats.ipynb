{
 "cells": [
  {
   "cell_type": "code",
   "execution_count": 1,
   "id": "85fe5db0",
   "metadata": {},
   "outputs": [],
   "source": [
    "# add parent dir to sys path for import of modules\n",
    "import os\n",
    "import sys\n",
    "parentdir = os.path.abspath(os.path.join(os.path.abspath(''), os.pardir))\n",
    "sys.path.insert(0, parentdir) "
   ]
  },
  {
   "cell_type": "code",
   "execution_count": 2,
   "id": "b4a39ca4",
   "metadata": {},
   "outputs": [
    {
     "name": "stderr",
     "output_type": "stream",
     "text": [
      "INFO:Utilities:Loaded config: {'keywords-filtered-approach': {'bert-model-name': 'distilbert-base-uncased', 'label-set': 'all', 'other-labels-weight': 0.4, 'num-labels': 9}, 'synonym-samples-start-number': 500}\n",
      "INFO:PetReader:Reload pet_reader from C:\\Users\\janek\\Development\\Git\\master-thesis\\data/other/pet_reader.pkl\n"
     ]
    }
   ],
   "source": [
    "import pandas as pd\n",
    "from PetReader import pet_reader\n",
    "from petreader.labels import *\n",
    "from labels import *\n",
    "from token_data_preparation import get_samples\n",
    "from token_data_augmentation import get_synonym_samples\n",
    "from utils import config"
   ]
  },
  {
   "cell_type": "code",
   "execution_count": 3,
   "id": "4cc9b991",
   "metadata": {},
   "outputs": [
    {
     "name": "stderr",
     "output_type": "stream",
     "text": [
      "INFO:Data Augmentation:Reload synonym_samples from C:\\Users\\janek\\Development\\Git\\master-thesis\\data/other/synonym_samples.pkl\n"
     ]
    },
    {
     "name": "stdout",
     "output_type": "stream",
     "text": [
      "Compute stats for normal False\n",
      "Compute stats for up False\n"
     ]
    },
    {
     "name": "stderr",
     "output_type": "stream",
     "text": [
      "INFO:Data Augmentation:Reload synonym_samples from C:\\Users\\janek\\Development\\Git\\master-thesis\\data/other/synonym_samples.pkl\n"
     ]
    },
    {
     "name": "stdout",
     "output_type": "stream",
     "text": [
      "Compute stats for down False\n"
     ]
    },
    {
     "name": "stderr",
     "output_type": "stream",
     "text": [
      "INFO:Data Augmentation:Reload synonym_samples from C:\\Users\\janek\\Development\\Git\\master-thesis\\data/other/synonym_samples.pkl\n"
     ]
    },
    {
     "name": "stdout",
     "output_type": "stream",
     "text": [
      "Compute stats for og False\n"
     ]
    },
    {
     "name": "stderr",
     "output_type": "stream",
     "text": [
      "INFO:Data Augmentation:Reload synonym_samples from C:\\Users\\janek\\Development\\Git\\master-thesis\\data/other/synonym_samples.pkl\n",
      "INFO:Data Augmentation:Reload synonym_samples from C:\\Users\\janek\\Development\\Git\\master-thesis\\data/other/synonym_samples.pkl\n",
      "INFO:Data Augmentation:Reload synonym_samples from C:\\Users\\janek\\Development\\Git\\master-thesis\\data/other/synonym_samples.pkl\n"
     ]
    },
    {
     "name": "stdout",
     "output_type": "stream",
     "text": [
      "Compute stats for normal True\n"
     ]
    },
    {
     "name": "stderr",
     "output_type": "stream",
     "text": [
      "INFO:Data Augmentation:Reload synonym_samples from C:\\Users\\janek\\Development\\Git\\master-thesis\\data/other/synonym_samples.pkl\n"
     ]
    },
    {
     "name": "stdout",
     "output_type": "stream",
     "text": [
      "Compute stats for og True\n"
     ]
    },
    {
     "name": "stderr",
     "output_type": "stream",
     "text": [
      "INFO:Data Augmentation:Reload synonym_samples from C:\\Users\\janek\\Development\\Git\\master-thesis\\data/other/synonym_samples.pkl\n",
      "INFO:Data Augmentation:Reload synonym_samples from C:\\Users\\janek\\Development\\Git\\master-thesis\\data/other/synonym_samples.pkl\n"
     ]
    },
    {
     "data": {
      "text/html": [
       "<div>\n",
       "<style scoped>\n",
       "    .dataframe tbody tr th:only-of-type {\n",
       "        vertical-align: middle;\n",
       "    }\n",
       "\n",
       "    .dataframe tbody tr th {\n",
       "        vertical-align: top;\n",
       "    }\n",
       "\n",
       "    .dataframe thead th {\n",
       "        text-align: right;\n",
       "    }\n",
       "</style>\n",
       "<table border=\"1\" class=\"dataframe\">\n",
       "  <thead>\n",
       "    <tr style=\"text-align: right;\">\n",
       "      <th></th>\n",
       "      <th>strategy</th>\n",
       "      <th>docs</th>\n",
       "      <th>docs_with_gateways</th>\n",
       "      <th>docs_with_xor_gateways</th>\n",
       "      <th>docs_with_and_gateways</th>\n",
       "      <th>total_gateway_tokens</th>\n",
       "      <th>total_xor_gateways_tokens</th>\n",
       "      <th>total_and_gateways_tokens</th>\n",
       "      <th>avg_gateway_tokens_per_doc</th>\n",
       "      <th>total_other_tokens</th>\n",
       "      <th>total_share_gateway_tokens</th>\n",
       "    </tr>\n",
       "  </thead>\n",
       "  <tbody>\n",
       "    <tr>\n",
       "      <th>0</th>\n",
       "      <td>normal</td>\n",
       "      <td>417</td>\n",
       "      <td>116</td>\n",
       "      <td>108</td>\n",
       "      <td>8</td>\n",
       "      <td>165</td>\n",
       "      <td>148</td>\n",
       "      <td>17</td>\n",
       "      <td>1.42</td>\n",
       "      <td>7404</td>\n",
       "      <td>0.02</td>\n",
       "    </tr>\n",
       "    <tr>\n",
       "      <th>1</th>\n",
       "      <td>up</td>\n",
       "      <td>602</td>\n",
       "      <td>301</td>\n",
       "      <td>281</td>\n",
       "      <td>20</td>\n",
       "      <td>421</td>\n",
       "      <td>380</td>\n",
       "      <td>41</td>\n",
       "      <td>1.40</td>\n",
       "      <td>11205</td>\n",
       "      <td>0.04</td>\n",
       "    </tr>\n",
       "    <tr>\n",
       "      <th>2</th>\n",
       "      <td>down</td>\n",
       "      <td>232</td>\n",
       "      <td>116</td>\n",
       "      <td>108</td>\n",
       "      <td>8</td>\n",
       "      <td>165</td>\n",
       "      <td>148</td>\n",
       "      <td>17</td>\n",
       "      <td>1.42</td>\n",
       "      <td>4280</td>\n",
       "      <td>0.04</td>\n",
       "    </tr>\n",
       "    <tr>\n",
       "      <th>3</th>\n",
       "      <td>og</td>\n",
       "      <td>116</td>\n",
       "      <td>116</td>\n",
       "      <td>108</td>\n",
       "      <td>8</td>\n",
       "      <td>165</td>\n",
       "      <td>148</td>\n",
       "      <td>17</td>\n",
       "      <td>1.42</td>\n",
       "      <td>2405</td>\n",
       "      <td>0.06</td>\n",
       "    </tr>\n",
       "    <tr>\n",
       "      <th>4</th>\n",
       "      <td>normal</td>\n",
       "      <td>965</td>\n",
       "      <td>664</td>\n",
       "      <td>646</td>\n",
       "      <td>18</td>\n",
       "      <td>773</td>\n",
       "      <td>744</td>\n",
       "      <td>29</td>\n",
       "      <td>1.16</td>\n",
       "      <td>18733</td>\n",
       "      <td>0.04</td>\n",
       "    </tr>\n",
       "    <tr>\n",
       "      <th>5</th>\n",
       "      <td>og</td>\n",
       "      <td>664</td>\n",
       "      <td>664</td>\n",
       "      <td>646</td>\n",
       "      <td>18</td>\n",
       "      <td>773</td>\n",
       "      <td>744</td>\n",
       "      <td>29</td>\n",
       "      <td>1.16</td>\n",
       "      <td>13734</td>\n",
       "      <td>0.05</td>\n",
       "    </tr>\n",
       "  </tbody>\n",
       "</table>\n",
       "</div>"
      ],
      "text/plain": [
       "  strategy  docs  docs_with_gateways  docs_with_xor_gateways  \\\n",
       "0   normal   417                 116                     108   \n",
       "1       up   602                 301                     281   \n",
       "2     down   232                 116                     108   \n",
       "3       og   116                 116                     108   \n",
       "4   normal   965                 664                     646   \n",
       "5       og   664                 664                     646   \n",
       "\n",
       "   docs_with_and_gateways  total_gateway_tokens  total_xor_gateways_tokens  \\\n",
       "0                       8                   165                        148   \n",
       "1                      20                   421                        380   \n",
       "2                       8                   165                        148   \n",
       "3                       8                   165                        148   \n",
       "4                      18                   773                        744   \n",
       "5                      18                   773                        744   \n",
       "\n",
       "   total_and_gateways_tokens  avg_gateway_tokens_per_doc  total_other_tokens  \\\n",
       "0                         17                        1.42                7404   \n",
       "1                         41                        1.40               11205   \n",
       "2                         17                        1.42                4280   \n",
       "3                         17                        1.42                2405   \n",
       "4                         29                        1.16               18733   \n",
       "5                         29                        1.16               13734   \n",
       "\n",
       "   total_share_gateway_tokens  \n",
       "0                        0.02  \n",
       "1                        0.04  \n",
       "2                        0.04  \n",
       "3                        0.06  \n",
       "4                        0.04  \n",
       "5                        0.05  "
      ]
     },
     "execution_count": 3,
     "metadata": {},
     "output_type": "execute_result"
    }
   ],
   "source": [
    "def analyze_samples(strategy, use_synonyms=False):\n",
    "    print(f\"Compute stats for\", strategy, use_synonyms)\n",
    "    \n",
    "    # get data\n",
    "    sample_numbers = get_samples(strategy, use_synonyms)\n",
    "    sample_dicts = []\n",
    "    synonym_samples = get_synonym_samples()\n",
    "    for sample_number in sample_numbers:\n",
    "        # in case sample is normal sample\n",
    "        if sample_number < config[SYNONYM_SAMPLES_START_NUMBER]:\n",
    "            sample_dicts.append(pet_reader.token_dataset.GetSampleDictWithNerLabels(sample_number))\n",
    "        # in case sample is synonym sample\n",
    "        else:\n",
    "            sample_dicts.append(synonym_samples[sample_number])\n",
    "    \n",
    "    # stats to compute\n",
    "    docs = len(sample_dicts)\n",
    "    docs_with_gateways = 0\n",
    "    docs_with_xor_gateways = 0\n",
    "    docs_with_and_gateways = 0\n",
    "    \n",
    "    total_gateway_tokens = 0\n",
    "    total_xor_gateways_tokens = 0\n",
    "    total_and_gateways_tokens = 0\n",
    "    total_other_tokens = 0\n",
    "\n",
    "    # compute stats\n",
    "    for sample_dict in sample_dicts:\n",
    "        number_xor_gateway_tokens = len([tag for tag in sample_dict[\"ner-tags\"] if tag.endswith(XOR_GATEWAY)])\n",
    "        number_and_gateway_tokens = len([tag for tag in sample_dict[\"ner-tags\"] if tag.endswith(AND_GATEWAY)])\n",
    "        number_gateway_tokens = number_xor_gateway_tokens + number_and_gateway_tokens\n",
    "        \n",
    "        # fill stats\n",
    "        if number_gateway_tokens:\n",
    "            docs_with_gateways += 1\n",
    "        total_gateway_tokens += number_gateway_tokens\n",
    "        total_other_tokens += len(sample_dict[\"ner-tags\"]) - number_gateway_tokens\n",
    "        \n",
    "        if number_xor_gateway_tokens:\n",
    "            docs_with_xor_gateways += 1\n",
    "            total_xor_gateways_tokens += number_xor_gateway_tokens\n",
    "        if number_and_gateway_tokens:\n",
    "            docs_with_and_gateways += 1\n",
    "            total_and_gateways_tokens += number_and_gateway_tokens\n",
    "    \n",
    "    # compute global stats\n",
    "    avg_gateway_tokens_per_doc = round(total_gateway_tokens / docs_with_gateways, 2)\n",
    "    total_share_gateway_tokens = round(total_gateway_tokens / (total_gateway_tokens + total_other_tokens), 2)\n",
    "    \n",
    "    if False:\n",
    "        print(\"docs\", docs)\n",
    "        print(\"docs_with_gateways\", docs_with_gateways)\n",
    "        print(\"docs_with_xor_gateways\", docs_with_xor_gateways)\n",
    "        print(\"docs_with_and_gateways\", docs_with_and_gateways)\n",
    "        print(\"total_gateway_tokens\", total_gateway_tokens)\n",
    "        print(\"total_xor_gateways_tokens\", total_xor_gateways_tokens)\n",
    "        print(\"total_and_gateways_tokens\", total_and_gateways_tokens)\n",
    "        print(\"avg_gateway_tokens_per_doc\", avg_gateway_tokens_per_doc)\n",
    "        print(\"total_other_tokens\", total_other_tokens)\n",
    "        print(\"total_share_gateway_tokens\", total_share_gateway_tokens)\n",
    "        print()\n",
    "\n",
    "    return {\"strategy\": strategy, \n",
    "            \"docs\": docs, \"docs_with_gateways\": docs_with_gateways, \"docs_with_xor_gateways\": docs_with_xor_gateways, \"docs_with_and_gateways\": docs_with_and_gateways,\n",
    "            \"total_gateway_tokens\": total_gateway_tokens, \"total_xor_gateways_tokens\": total_xor_gateways_tokens, \"total_and_gateways_tokens\": total_and_gateways_tokens,\n",
    "            \"avg_gateway_tokens_per_doc\": avg_gateway_tokens_per_doc, \"total_other_tokens\": total_other_tokens, \"total_share_gateway_tokens\": total_share_gateway_tokens}\n",
    "            \n",
    "\n",
    "rows = []\n",
    "for strategy, use_synonyms in [(NORMAL, False), (UP_SAMPLING, False), (DOWN_SAMPLING, False), (ONLY_GATEWAYS, False),\n",
    "                               (NORMAL, True), (ONLY_GATEWAYS, True)]:\n",
    "    rows.append(analyze_samples(strategy, use_synonyms))\n",
    "    \n",
    "df = pd.DataFrame.from_dict(rows)\n",
    "df.head(10)"
   ]
  },
  {
   "cell_type": "code",
   "execution_count": 4,
   "id": "bcb6aeee",
   "metadata": {},
   "outputs": [],
   "source": [
    "df.to_excel(\"../data/other/token_cls_stats.xlsx\", index=False)"
   ]
  }
 ],
 "metadata": {
  "kernelspec": {
   "display_name": "Python 3 (ipykernel)",
   "language": "python",
   "name": "python3"
  },
  "language_info": {
   "codemirror_mode": {
    "name": "ipython",
    "version": 3
   },
   "file_extension": ".py",
   "mimetype": "text/x-python",
   "name": "python",
   "nbconvert_exporter": "python",
   "pygments_lexer": "ipython3",
   "version": "3.8.13"
  }
 },
 "nbformat": 4,
 "nbformat_minor": 5
}
